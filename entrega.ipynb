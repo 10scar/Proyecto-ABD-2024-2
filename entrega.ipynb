{
 "cells": [
  {
   "cell_type": "markdown",
   "metadata": {},
   "source": [
    "# Entrega 2 Analisis de bases de Datos\n",
    "\n",
    "Lo que se quiere hacer inicialmente es un analisis y reduccion de dimension de la base de datos de Matriculados.  \n",
    "Así que primero caractericemos esta base: "
   ]
  },
  {
   "cell_type": "code",
   "execution_count": 2,
   "metadata": {},
   "outputs": [
    {
     "name": "stderr",
     "output_type": "stream",
     "text": [
      "\n",
      "A module that was compiled using NumPy 1.x cannot be run in\n",
      "NumPy 2.1.3 as it may crash. To support both 1.x and 2.x\n",
      "versions of NumPy, modules must be compiled with NumPy 2.0.\n",
      "Some module may need to rebuild instead e.g. with 'pybind11>=2.12'.\n",
      "\n",
      "If you are a user of the module, the easiest solution will be to\n",
      "downgrade to 'numpy<2' or try to upgrade the affected module.\n",
      "We expect that some modules will need time to support NumPy 2.\n",
      "\n",
      "Traceback (most recent call last):  File \"/usr/lib/python3.10/runpy.py\", line 196, in _run_module_as_main\n",
      "    return _run_code(code, main_globals, None,\n",
      "  File \"/usr/lib/python3.10/runpy.py\", line 86, in _run_code\n",
      "    exec(code, run_globals)\n",
      "  File \"/home/willgm/.local/lib/python3.10/site-packages/ipykernel_launcher.py\", line 18, in <module>\n",
      "    app.launch_new_instance()\n",
      "  File \"/home/willgm/.local/lib/python3.10/site-packages/traitlets/config/application.py\", line 1075, in launch_instance\n",
      "    app.start()\n",
      "  File \"/home/willgm/.local/lib/python3.10/site-packages/ipykernel/kernelapp.py\", line 739, in start\n",
      "    self.io_loop.start()\n",
      "  File \"/home/willgm/.local/lib/python3.10/site-packages/tornado/platform/asyncio.py\", line 205, in start\n",
      "    self.asyncio_loop.run_forever()\n",
      "  File \"/usr/lib/python3.10/asyncio/base_events.py\", line 603, in run_forever\n",
      "    self._run_once()\n",
      "  File \"/usr/lib/python3.10/asyncio/base_events.py\", line 1909, in _run_once\n",
      "    handle._run()\n",
      "  File \"/usr/lib/python3.10/asyncio/events.py\", line 80, in _run\n",
      "    self._context.run(self._callback, *self._args)\n",
      "  File \"/home/willgm/.local/lib/python3.10/site-packages/ipykernel/kernelbase.py\", line 545, in dispatch_queue\n",
      "    await self.process_one()\n",
      "  File \"/home/willgm/.local/lib/python3.10/site-packages/ipykernel/kernelbase.py\", line 534, in process_one\n",
      "    await dispatch(*args)\n",
      "  File \"/home/willgm/.local/lib/python3.10/site-packages/ipykernel/kernelbase.py\", line 437, in dispatch_shell\n",
      "    await result\n",
      "  File \"/home/willgm/.local/lib/python3.10/site-packages/ipykernel/ipkernel.py\", line 362, in execute_request\n",
      "    await super().execute_request(stream, ident, parent)\n",
      "  File \"/home/willgm/.local/lib/python3.10/site-packages/ipykernel/kernelbase.py\", line 778, in execute_request\n",
      "    reply_content = await reply_content\n",
      "  File \"/home/willgm/.local/lib/python3.10/site-packages/ipykernel/ipkernel.py\", line 449, in do_execute\n",
      "    res = shell.run_cell(\n",
      "  File \"/home/willgm/.local/lib/python3.10/site-packages/ipykernel/zmqshell.py\", line 549, in run_cell\n",
      "    return super().run_cell(*args, **kwargs)\n",
      "  File \"/home/willgm/.local/lib/python3.10/site-packages/IPython/core/interactiveshell.py\", line 3075, in run_cell\n",
      "    result = self._run_cell(\n",
      "  File \"/home/willgm/.local/lib/python3.10/site-packages/IPython/core/interactiveshell.py\", line 3130, in _run_cell\n",
      "    result = runner(coro)\n",
      "  File \"/home/willgm/.local/lib/python3.10/site-packages/IPython/core/async_helpers.py\", line 128, in _pseudo_sync_runner\n",
      "    coro.send(None)\n",
      "  File \"/home/willgm/.local/lib/python3.10/site-packages/IPython/core/interactiveshell.py\", line 3334, in run_cell_async\n",
      "    has_raised = await self.run_ast_nodes(code_ast.body, cell_name,\n",
      "  File \"/home/willgm/.local/lib/python3.10/site-packages/IPython/core/interactiveshell.py\", line 3517, in run_ast_nodes\n",
      "    if await self.run_code(code, result, async_=asy):\n",
      "  File \"/home/willgm/.local/lib/python3.10/site-packages/IPython/core/interactiveshell.py\", line 3577, in run_code\n",
      "    exec(code_obj, self.user_global_ns, self.user_ns)\n",
      "  File \"/tmp/ipykernel_5383/1543584708.py\", line 3, in <module>\n",
      "    import seaborn as sns\n",
      "  File \"/home/willgm/.local/lib/python3.10/site-packages/seaborn/__init__.py\", line 2, in <module>\n",
      "    from .rcmod import *  # noqa: F401,F403\n",
      "  File \"/home/willgm/.local/lib/python3.10/site-packages/seaborn/rcmod.py\", line 3, in <module>\n",
      "    import matplotlib as mpl\n",
      "  File \"/usr/lib/python3/dist-packages/matplotlib/__init__.py\", line 109, in <module>\n",
      "    from . import _api, _version, cbook, docstring, rcsetup\n",
      "  File \"/usr/lib/python3/dist-packages/matplotlib/rcsetup.py\", line 27, in <module>\n",
      "    from matplotlib.colors import Colormap, is_color_like\n",
      "  File \"/usr/lib/python3/dist-packages/matplotlib/colors.py\", line 56, in <module>\n",
      "    from matplotlib import _api, cbook, scale\n",
      "  File \"/usr/lib/python3/dist-packages/matplotlib/scale.py\", line 23, in <module>\n",
      "    from matplotlib.ticker import (\n",
      "  File \"/usr/lib/python3/dist-packages/matplotlib/ticker.py\", line 136, in <module>\n",
      "    from matplotlib import transforms as mtransforms\n",
      "  File \"/usr/lib/python3/dist-packages/matplotlib/transforms.py\", line 46, in <module>\n",
      "    from matplotlib._path import (\n"
     ]
    },
    {
     "ename": "AttributeError",
     "evalue": "_ARRAY_API not found",
     "output_type": "error",
     "traceback": [
      "\u001b[0;31m---------------------------------------------------------------------------\u001b[0m",
      "\u001b[0;31mAttributeError\u001b[0m                            Traceback (most recent call last)",
      "\u001b[0;31mAttributeError\u001b[0m: _ARRAY_API not found"
     ]
    },
    {
     "ename": "ImportError",
     "evalue": "numpy.core.multiarray failed to import",
     "output_type": "error",
     "traceback": [
      "\u001b[0;31m---------------------------------------------------------------------------\u001b[0m",
      "\u001b[0;31mImportError\u001b[0m                               Traceback (most recent call last)",
      "Cell \u001b[0;32mIn[2], line 3\u001b[0m\n\u001b[1;32m      1\u001b[0m \u001b[38;5;28;01mimport\u001b[39;00m \u001b[38;5;21;01mpandas\u001b[39;00m \u001b[38;5;28;01mas\u001b[39;00m \u001b[38;5;21;01mpd\u001b[39;00m\n\u001b[1;32m      2\u001b[0m \u001b[38;5;28;01mimport\u001b[39;00m \u001b[38;5;21;01mnumpy\u001b[39;00m \u001b[38;5;28;01mas\u001b[39;00m \u001b[38;5;21;01mnp\u001b[39;00m\n\u001b[0;32m----> 3\u001b[0m \u001b[38;5;28;01mimport\u001b[39;00m \u001b[38;5;21;01mseaborn\u001b[39;00m \u001b[38;5;28;01mas\u001b[39;00m \u001b[38;5;21;01msns\u001b[39;00m\n\u001b[1;32m      4\u001b[0m \u001b[38;5;28;01mfrom\u001b[39;00m \u001b[38;5;21;01mmatplotlib\u001b[39;00m \u001b[38;5;28;01mimport\u001b[39;00m pyplot \u001b[38;5;28;01mas\u001b[39;00m plt\n",
      "File \u001b[0;32m~/.local/lib/python3.10/site-packages/seaborn/__init__.py:2\u001b[0m\n\u001b[1;32m      1\u001b[0m \u001b[38;5;66;03m# Import seaborn objects\u001b[39;00m\n\u001b[0;32m----> 2\u001b[0m \u001b[38;5;28;01mfrom\u001b[39;00m \u001b[38;5;21;01m.\u001b[39;00m\u001b[38;5;21;01mrcmod\u001b[39;00m \u001b[38;5;28;01mimport\u001b[39;00m \u001b[38;5;241m*\u001b[39m  \u001b[38;5;66;03m# noqa: F401,F403\u001b[39;00m\n\u001b[1;32m      3\u001b[0m \u001b[38;5;28;01mfrom\u001b[39;00m \u001b[38;5;21;01m.\u001b[39;00m\u001b[38;5;21;01mutils\u001b[39;00m \u001b[38;5;28;01mimport\u001b[39;00m \u001b[38;5;241m*\u001b[39m  \u001b[38;5;66;03m# noqa: F401,F403\u001b[39;00m\n\u001b[1;32m      4\u001b[0m \u001b[38;5;28;01mfrom\u001b[39;00m \u001b[38;5;21;01m.\u001b[39;00m\u001b[38;5;21;01mpalettes\u001b[39;00m \u001b[38;5;28;01mimport\u001b[39;00m \u001b[38;5;241m*\u001b[39m  \u001b[38;5;66;03m# noqa: F401,F403\u001b[39;00m\n",
      "File \u001b[0;32m~/.local/lib/python3.10/site-packages/seaborn/rcmod.py:3\u001b[0m\n\u001b[1;32m      1\u001b[0m \u001b[38;5;124;03m\"\"\"Control plot style and scaling using the matplotlib rcParams interface.\"\"\"\u001b[39;00m\n\u001b[1;32m      2\u001b[0m \u001b[38;5;28;01mimport\u001b[39;00m \u001b[38;5;21;01mfunctools\u001b[39;00m\n\u001b[0;32m----> 3\u001b[0m \u001b[38;5;28;01mimport\u001b[39;00m \u001b[38;5;21;01mmatplotlib\u001b[39;00m \u001b[38;5;28;01mas\u001b[39;00m \u001b[38;5;21;01mmpl\u001b[39;00m\n\u001b[1;32m      4\u001b[0m \u001b[38;5;28;01mfrom\u001b[39;00m \u001b[38;5;21;01mcycler\u001b[39;00m \u001b[38;5;28;01mimport\u001b[39;00m cycler\n\u001b[1;32m      5\u001b[0m \u001b[38;5;28;01mfrom\u001b[39;00m \u001b[38;5;21;01m.\u001b[39;00m \u001b[38;5;28;01mimport\u001b[39;00m palettes\n",
      "File \u001b[0;32m/usr/lib/python3/dist-packages/matplotlib/__init__.py:109\u001b[0m\n\u001b[1;32m    105\u001b[0m \u001b[38;5;28;01mfrom\u001b[39;00m \u001b[38;5;21;01mpackaging\u001b[39;00m\u001b[38;5;21;01m.\u001b[39;00m\u001b[38;5;21;01mversion\u001b[39;00m \u001b[38;5;28;01mimport\u001b[39;00m parse \u001b[38;5;28;01mas\u001b[39;00m parse_version\n\u001b[1;32m    107\u001b[0m \u001b[38;5;66;03m# cbook must import matplotlib only within function\u001b[39;00m\n\u001b[1;32m    108\u001b[0m \u001b[38;5;66;03m# definitions, so it is safe to import from it here.\u001b[39;00m\n\u001b[0;32m--> 109\u001b[0m \u001b[38;5;28;01mfrom\u001b[39;00m \u001b[38;5;21;01m.\u001b[39;00m \u001b[38;5;28;01mimport\u001b[39;00m _api, _version, cbook, docstring, rcsetup\n\u001b[1;32m    110\u001b[0m \u001b[38;5;28;01mfrom\u001b[39;00m \u001b[38;5;21;01mmatplotlib\u001b[39;00m\u001b[38;5;21;01m.\u001b[39;00m\u001b[38;5;21;01mcbook\u001b[39;00m \u001b[38;5;28;01mimport\u001b[39;00m MatplotlibDeprecationWarning, sanitize_sequence\n\u001b[1;32m    111\u001b[0m \u001b[38;5;28;01mfrom\u001b[39;00m \u001b[38;5;21;01mmatplotlib\u001b[39;00m\u001b[38;5;21;01m.\u001b[39;00m\u001b[38;5;21;01mcbook\u001b[39;00m \u001b[38;5;28;01mimport\u001b[39;00m mplDeprecation  \u001b[38;5;66;03m# deprecated\u001b[39;00m\n",
      "File \u001b[0;32m/usr/lib/python3/dist-packages/matplotlib/rcsetup.py:27\u001b[0m\n\u001b[1;32m     25\u001b[0m \u001b[38;5;28;01mfrom\u001b[39;00m \u001b[38;5;21;01mmatplotlib\u001b[39;00m \u001b[38;5;28;01mimport\u001b[39;00m _api, cbook\n\u001b[1;32m     26\u001b[0m \u001b[38;5;28;01mfrom\u001b[39;00m \u001b[38;5;21;01mmatplotlib\u001b[39;00m\u001b[38;5;21;01m.\u001b[39;00m\u001b[38;5;21;01mcbook\u001b[39;00m \u001b[38;5;28;01mimport\u001b[39;00m ls_mapper\n\u001b[0;32m---> 27\u001b[0m \u001b[38;5;28;01mfrom\u001b[39;00m \u001b[38;5;21;01mmatplotlib\u001b[39;00m\u001b[38;5;21;01m.\u001b[39;00m\u001b[38;5;21;01mcolors\u001b[39;00m \u001b[38;5;28;01mimport\u001b[39;00m Colormap, is_color_like\n\u001b[1;32m     28\u001b[0m \u001b[38;5;28;01mfrom\u001b[39;00m \u001b[38;5;21;01mmatplotlib\u001b[39;00m\u001b[38;5;21;01m.\u001b[39;00m\u001b[38;5;21;01mfontconfig_pattern\u001b[39;00m \u001b[38;5;28;01mimport\u001b[39;00m parse_fontconfig_pattern\n\u001b[1;32m     29\u001b[0m \u001b[38;5;28;01mfrom\u001b[39;00m \u001b[38;5;21;01mmatplotlib\u001b[39;00m\u001b[38;5;21;01m.\u001b[39;00m\u001b[38;5;21;01m_enums\u001b[39;00m \u001b[38;5;28;01mimport\u001b[39;00m JoinStyle, CapStyle\n",
      "File \u001b[0;32m/usr/lib/python3/dist-packages/matplotlib/colors.py:56\u001b[0m\n\u001b[1;32m     54\u001b[0m \u001b[38;5;28;01mimport\u001b[39;00m \u001b[38;5;21;01mmatplotlib\u001b[39;00m \u001b[38;5;28;01mas\u001b[39;00m \u001b[38;5;21;01mmpl\u001b[39;00m\n\u001b[1;32m     55\u001b[0m \u001b[38;5;28;01mimport\u001b[39;00m \u001b[38;5;21;01mnumpy\u001b[39;00m \u001b[38;5;28;01mas\u001b[39;00m \u001b[38;5;21;01mnp\u001b[39;00m\n\u001b[0;32m---> 56\u001b[0m \u001b[38;5;28;01mfrom\u001b[39;00m \u001b[38;5;21;01mmatplotlib\u001b[39;00m \u001b[38;5;28;01mimport\u001b[39;00m _api, cbook, scale\n\u001b[1;32m     57\u001b[0m \u001b[38;5;28;01mfrom\u001b[39;00m \u001b[38;5;21;01m.\u001b[39;00m\u001b[38;5;21;01m_color_data\u001b[39;00m \u001b[38;5;28;01mimport\u001b[39;00m BASE_COLORS, TABLEAU_COLORS, CSS4_COLORS, XKCD_COLORS\n\u001b[1;32m     60\u001b[0m \u001b[38;5;28;01mclass\u001b[39;00m \u001b[38;5;21;01m_ColorMapping\u001b[39;00m(\u001b[38;5;28mdict\u001b[39m):\n",
      "File \u001b[0;32m/usr/lib/python3/dist-packages/matplotlib/scale.py:23\u001b[0m\n\u001b[1;32m     21\u001b[0m \u001b[38;5;28;01mimport\u001b[39;00m \u001b[38;5;21;01mmatplotlib\u001b[39;00m \u001b[38;5;28;01mas\u001b[39;00m \u001b[38;5;21;01mmpl\u001b[39;00m\n\u001b[1;32m     22\u001b[0m \u001b[38;5;28;01mfrom\u001b[39;00m \u001b[38;5;21;01mmatplotlib\u001b[39;00m \u001b[38;5;28;01mimport\u001b[39;00m _api, docstring\n\u001b[0;32m---> 23\u001b[0m \u001b[38;5;28;01mfrom\u001b[39;00m \u001b[38;5;21;01mmatplotlib\u001b[39;00m\u001b[38;5;21;01m.\u001b[39;00m\u001b[38;5;21;01mticker\u001b[39;00m \u001b[38;5;28;01mimport\u001b[39;00m (\n\u001b[1;32m     24\u001b[0m     NullFormatter, ScalarFormatter, LogFormatterSciNotation, LogitFormatter,\n\u001b[1;32m     25\u001b[0m     NullLocator, LogLocator, AutoLocator, AutoMinorLocator,\n\u001b[1;32m     26\u001b[0m     SymmetricalLogLocator, LogitLocator)\n\u001b[1;32m     27\u001b[0m \u001b[38;5;28;01mfrom\u001b[39;00m \u001b[38;5;21;01mmatplotlib\u001b[39;00m\u001b[38;5;21;01m.\u001b[39;00m\u001b[38;5;21;01mtransforms\u001b[39;00m \u001b[38;5;28;01mimport\u001b[39;00m Transform, IdentityTransform\n\u001b[1;32m     30\u001b[0m \u001b[38;5;28;01mclass\u001b[39;00m \u001b[38;5;21;01mScaleBase\u001b[39;00m:\n",
      "File \u001b[0;32m/usr/lib/python3/dist-packages/matplotlib/ticker.py:136\u001b[0m\n\u001b[1;32m    134\u001b[0m \u001b[38;5;28;01mimport\u001b[39;00m \u001b[38;5;21;01mmatplotlib\u001b[39;00m \u001b[38;5;28;01mas\u001b[39;00m \u001b[38;5;21;01mmpl\u001b[39;00m\n\u001b[1;32m    135\u001b[0m \u001b[38;5;28;01mfrom\u001b[39;00m \u001b[38;5;21;01mmatplotlib\u001b[39;00m \u001b[38;5;28;01mimport\u001b[39;00m _api, cbook\n\u001b[0;32m--> 136\u001b[0m \u001b[38;5;28;01mfrom\u001b[39;00m \u001b[38;5;21;01mmatplotlib\u001b[39;00m \u001b[38;5;28;01mimport\u001b[39;00m transforms \u001b[38;5;28;01mas\u001b[39;00m mtransforms\n\u001b[1;32m    138\u001b[0m _log \u001b[38;5;241m=\u001b[39m logging\u001b[38;5;241m.\u001b[39mgetLogger(\u001b[38;5;18m__name__\u001b[39m)\n\u001b[1;32m    140\u001b[0m __all__ \u001b[38;5;241m=\u001b[39m (\u001b[38;5;124m'\u001b[39m\u001b[38;5;124mTickHelper\u001b[39m\u001b[38;5;124m'\u001b[39m, \u001b[38;5;124m'\u001b[39m\u001b[38;5;124mFormatter\u001b[39m\u001b[38;5;124m'\u001b[39m, \u001b[38;5;124m'\u001b[39m\u001b[38;5;124mFixedFormatter\u001b[39m\u001b[38;5;124m'\u001b[39m,\n\u001b[1;32m    141\u001b[0m            \u001b[38;5;124m'\u001b[39m\u001b[38;5;124mNullFormatter\u001b[39m\u001b[38;5;124m'\u001b[39m, \u001b[38;5;124m'\u001b[39m\u001b[38;5;124mFuncFormatter\u001b[39m\u001b[38;5;124m'\u001b[39m, \u001b[38;5;124m'\u001b[39m\u001b[38;5;124mFormatStrFormatter\u001b[39m\u001b[38;5;124m'\u001b[39m,\n\u001b[1;32m    142\u001b[0m            \u001b[38;5;124m'\u001b[39m\u001b[38;5;124mStrMethodFormatter\u001b[39m\u001b[38;5;124m'\u001b[39m, \u001b[38;5;124m'\u001b[39m\u001b[38;5;124mScalarFormatter\u001b[39m\u001b[38;5;124m'\u001b[39m, \u001b[38;5;124m'\u001b[39m\u001b[38;5;124mLogFormatter\u001b[39m\u001b[38;5;124m'\u001b[39m,\n\u001b[0;32m   (...)\u001b[0m\n\u001b[1;32m    148\u001b[0m            \u001b[38;5;124m'\u001b[39m\u001b[38;5;124mMultipleLocator\u001b[39m\u001b[38;5;124m'\u001b[39m, \u001b[38;5;124m'\u001b[39m\u001b[38;5;124mMaxNLocator\u001b[39m\u001b[38;5;124m'\u001b[39m, \u001b[38;5;124m'\u001b[39m\u001b[38;5;124mAutoMinorLocator\u001b[39m\u001b[38;5;124m'\u001b[39m,\n\u001b[1;32m    149\u001b[0m            \u001b[38;5;124m'\u001b[39m\u001b[38;5;124mSymmetricalLogLocator\u001b[39m\u001b[38;5;124m'\u001b[39m, \u001b[38;5;124m'\u001b[39m\u001b[38;5;124mLogitLocator\u001b[39m\u001b[38;5;124m'\u001b[39m)\n",
      "File \u001b[0;32m/usr/lib/python3/dist-packages/matplotlib/transforms.py:46\u001b[0m\n\u001b[1;32m     43\u001b[0m \u001b[38;5;28;01mfrom\u001b[39;00m \u001b[38;5;21;01mnumpy\u001b[39;00m\u001b[38;5;21;01m.\u001b[39;00m\u001b[38;5;21;01mlinalg\u001b[39;00m \u001b[38;5;28;01mimport\u001b[39;00m inv\n\u001b[1;32m     45\u001b[0m \u001b[38;5;28;01mfrom\u001b[39;00m \u001b[38;5;21;01mmatplotlib\u001b[39;00m \u001b[38;5;28;01mimport\u001b[39;00m _api\n\u001b[0;32m---> 46\u001b[0m \u001b[38;5;28;01mfrom\u001b[39;00m \u001b[38;5;21;01mmatplotlib\u001b[39;00m\u001b[38;5;21;01m.\u001b[39;00m\u001b[38;5;21;01m_path\u001b[39;00m \u001b[38;5;28;01mimport\u001b[39;00m (\n\u001b[1;32m     47\u001b[0m     affine_transform, count_bboxes_overlapping_bbox, update_path_extents)\n\u001b[1;32m     48\u001b[0m \u001b[38;5;28;01mfrom\u001b[39;00m \u001b[38;5;21;01m.\u001b[39;00m\u001b[38;5;21;01mpath\u001b[39;00m \u001b[38;5;28;01mimport\u001b[39;00m Path\n\u001b[1;32m     50\u001b[0m DEBUG \u001b[38;5;241m=\u001b[39m \u001b[38;5;28;01mFalse\u001b[39;00m\n",
      "\u001b[0;31mImportError\u001b[0m: numpy.core.multiarray failed to import"
     ]
    }
   ],
   "source": [
    "import pandas as pd\n",
    "import numpy as np\n",
    "import seaborn as sns\n",
    "from matplotlib import pyplot as plt"
   ]
  },
  {
   "cell_type": "code",
   "execution_count": 3,
   "metadata": {},
   "outputs": [],
   "source": [
    "matriculados = pd.read_csv(\"/home/willgm/STUFF/UNAL/7sem/Analisis BBDD/Proyecto-ABD-2024-2/Estudiantes_matriculados.csv\")"
   ]
  },
  {
   "cell_type": "markdown",
   "metadata": {},
   "source": [
    "## Caracterizacion de la Base de Datos Original de Matriculados\n",
    "\n",
    "Los 44 atributos de la base son los siguientes y corresponden a la siguiente informacion:\n",
    "\n",
    "+ **YEAR:**  \n",
    "+ **SEMESTRE:**  \n",
    "+ **TIPO_NIVEL:**          \n",
    "+ **NIVEL:**  \n",
    "+ **DEP_NAC:**  \n",
    "+ **COD_DEP_NAC:**  \n",
    "+ **CIU_NAC:**  \n",
    "+ **COD_CIU_NAC:**  \n",
    "+ **LON_CIU_NAC:**  \n",
    "+ **LAT_CIU_NAC:**  \n",
    "+ **DEP_PROC:**  \n",
    "+ **COD_DEP_PROC:**  \n",
    "+ **CIU_PROC:**  \n",
    "+ **COD_CIU_PROC:**  \n",
    "+ **LON_CIU_PROC:**  \n",
    "+ **LAT_CIU_PROC:**  \n",
    "+ **CODS_NAC:**  \n",
    "+ **CODN_NAC:**  \n",
    "+ **NACIONALIDAD:**  \n",
    "+ **EDAD:**  \n",
    "+ **SEXO:**  \n",
    "+ **ESTRATO:**  \n",
    "+ **TIPO_COL:**  \n",
    "+ **PBM:**  \n",
    "+ **MAT_PVEZ:**  \n",
    "+ **SNIES_SEDE_ADM:**  \n",
    "+ **SEDE_NOMBRE_ADM:**  \n",
    "+ **SNIES_SEDE_MAT:**  \n",
    "+ **SEDE_NOMBRE_MAT:**  \n",
    "+ **ADM_PEAMA_ANDINA**  \n",
    "+ **MOD_ADM:**  \n",
    "+ **TIPO_ADM:**  \n",
    "+ **PAES:**  \n",
    "+ **PEAMA:**  \n",
    "+ **MOV_PEAMA:**  \n",
    "+ **CONVENIO:**  \n",
    "+ **TIP_CONVENIO:**  \n",
    "+ **FACULTAD:**  \n",
    "+ **SNIES_PROGRA:**  \n",
    "+ **PROGRAMA:**  \n",
    "+ **AREAC_SNIES:**  \n",
    "+ **CA_CINE:**  \n",
    "+ **CD_CINE:**  \n",
    "+ **AREA_CINE:**  "
   ]
  },
  {
   "cell_type": "markdown",
   "metadata": {},
   "source": [
    "Estos atributos pueden agruparse de la siguiente manera:  \n",
    "\n",
    "+ ***NIVEL:*** En esta categoria corresponden *TIPO_NIVEL* y *Nivel*. Pues la primera solo indica que si el estudiante pertenece a pregrado o postgrado,\n",
    "  la segunda hace lo mismo pero tiene ademas como posibles datos 'Maestria'.'Especializacion','Doctorado','Especializaciones medicas' y 'Pregrado' .  \n",
    "  Con lo cual podemos tomar unicamente *Nivel*, pues si un estudiante no esta haciendo pregrado y tiene otro Nivel es porque esta haciendo postgrado.  \n",
    "  Dicho de otra manera, 'NIVEL' determina a 'TIPO_NIVEL'"
   ]
  },
  {
   "cell_type": "code",
   "execution_count": 3,
   "metadata": {},
   "outputs": [
    {
     "data": {
      "text/plain": [
       "array(['Pregrado', 'Postgrado'], dtype=object)"
      ]
     },
     "execution_count": 3,
     "metadata": {},
     "output_type": "execute_result"
    }
   ],
   "source": [
    "matriculados['TIPO_NIVEL'].unique()"
   ]
  },
  {
   "cell_type": "code",
   "execution_count": 4,
   "metadata": {},
   "outputs": [
    {
     "data": {
      "text/plain": [
       "array(['Pregrado', 'Maestría', 'Especialidades médicas',\n",
       "       'Especialización', 'Doctorado'], dtype=object)"
      ]
     },
     "execution_count": 4,
     "metadata": {},
     "output_type": "execute_result"
    }
   ],
   "source": [
    "matriculados['NIVEL'].unique()"
   ]
  },
  {
   "cell_type": "markdown",
   "metadata": {},
   "source": [
    "+ ***DEPARTAMENTO DE NACIMIENTO:*** A Esta categoria pertenecen *DEP_NAC* y *COD_DEP_NAC*, pues ambos se determinan entre sí, sabiendo el codigo se puede saber el departemento y viceversa.  "
   ]
  },
  {
   "cell_type": "code",
   "execution_count": 12,
   "metadata": {},
   "outputs": [
    {
     "data": {
      "text/plain": [
       "array(['BOGOTÁ, D. C.', 'CUNDINAMARCA', 'META', 'Sin información',\n",
       "       'HUILA', 'CALDAS', 'GUAINÍA', 'NARIÑO', 'BOYACÁ', 'TOLIMA',\n",
       "       'SANTANDER', 'NORTE DE SANTANDER', 'PUTUMAYO', 'BOLÍVAR',\n",
       "       'VALLE DEL CAUCA', 'ARAUCA', 'GUAVIARE', 'CASANARE', 'QUINDÍO',\n",
       "       'ANTIOQUIA', 'VICHADA', 'CAQUETÁ', 'ATLÁNTICO', 'CESAR',\n",
       "       'AMAZONAS', 'CAUCA',\n",
       "       'ARCHIPIÉLAGO DE SAN ANDRÉS, PROVIDENCIA Y SANTA CATALINA',\n",
       "       'MAGDALENA', 'LA GUAJIRA', 'RISARALDA', 'CÓRDOBA', 'SUCRE',\n",
       "       'VAUPÉS', 'CHOCÓ'], dtype=object)"
      ]
     },
     "execution_count": 12,
     "metadata": {},
     "output_type": "execute_result"
    }
   ],
   "source": [
    "matriculados[\"DEP_NAC\"].unique()"
   ]
  },
  {
   "cell_type": "code",
   "execution_count": 11,
   "metadata": {},
   "outputs": [
    {
     "data": {
      "text/plain": [
       "array([ 11,  25,  50, -89,  41,  17,  94,  52,  15,  73,  68,  54,  86,\n",
       "        13,  76,  81,  95,  85,  63,   5,  99,  18,   8,  20,  91,  19,\n",
       "        88,  47,  44,  66,  23,  70,  97,  27])"
      ]
     },
     "execution_count": 11,
     "metadata": {},
     "output_type": "execute_result"
    }
   ],
   "source": [
    "matriculados[\"COD_DEP_NAC\"].unique()"
   ]
  },
  {
   "cell_type": "markdown",
   "metadata": {},
   "source": [
    "+ ***MUNICIPIO*** A esta categoria pertenece *CIU_NAC*, *COD_CIU_NAC*, *LON_CIU_NAC* y *LAT_CIU_NAC*. Si se conoce el municipio del que proviene un estudiantes se conoce un codigo y su latidu y longitud. "
   ]
  },
  {
   "cell_type": "code",
   "execution_count": 13,
   "metadata": {},
   "outputs": [
    {
     "data": {
      "text/plain": [
       "array(['BOGOTÁ, D.C.', 'FACATATIVÁ', 'VILLAVICENCIO', 'Sin información',\n",
       "       'NEIVA', 'MANIZALES', 'INÍRIDA', 'IPIALES', 'DUITAMA', 'IBAGUÉ',\n",
       "       'CHÍA', 'UBALÁ', 'MANZANARES', 'SOATÁ', 'TUNJA', 'ARMERO GUAYABAL',\n",
       "       'GIRARDOT', 'ALDANA', 'BUCARAMANGA', 'CÚCUTA', 'COLÓN', 'PITALITO',\n",
       "       'SOGAMOSO', 'VILLA DE SAN DIEGO DE UBATÉ', 'ACACÍAS', 'GACHETÁ',\n",
       "       'SANTA ROSA DEL SUR', 'SUCRE', 'SOACHA', 'CALI', 'PASTO',\n",
       "       'PALMIRA', 'CHOACHÍ', 'COLOMBIA', 'MARQUETALIA',\n",
       "       'SAN PABLO DE BORBUR', 'ARAUCA', 'TASCO', 'CHAPARRAL',\n",
       "       'SAN JOSÉ DEL GUAVIARE', 'SAN FRANCISCO', 'ZIPAQUIRÁ', 'PAIPA',\n",
       "       'CHIQUINQUIRÁ', 'YOPAL', 'AQUITANIA', 'ARMENIA', 'MEDELLÍN',\n",
       "       'LA VEGA', 'COTA', 'PUERTO CARREÑO', 'FLORENCIA', 'GUADUAS',\n",
       "       'BARRANQUILLA', 'GIGANTE', 'MALLAMA', 'CAUCASIA',\n",
       "       'CARTAGENA DE INDIAS', 'VALLEDUPAR', 'LETICIA', 'ARBELÁEZ',\n",
       "       'SUSACÓN', 'MADRID', 'TARQUI', 'ALGECIRAS', 'VILLETA',\n",
       "       'FUSAGASUGÁ', 'SUBACHOQUE', 'AGUAZUL', 'VILLA DE LEYVA',\n",
       "       'RAGONVALIA', 'MIRAFLORES', 'LA UVITA', 'CHINAVITA', 'EL CALVARIO',\n",
       "       'MÁLAGA', 'POPAYÁN', 'SIBUNDOY', 'TORO', 'LA MESA', 'LÍBANO',\n",
       "       'LA ARGENTINA', 'CONTADERO', 'SAN ANDRÉS', 'FRESNO', 'SALAMINA',\n",
       "       'SANTA MARTA', 'VILLANUEVA', 'SARAVENA', 'JESÚS MARÍA', 'VÉLEZ',\n",
       "       'BARBOSA', 'CAJICÁ', 'SAN ALBERTO', 'BOAVITA', 'CHOCONTÁ',\n",
       "       'GÉNOVA', 'VILLAHERMOSA', 'TIBANÁ', 'SAN MATEO', 'TOCANCIPÁ',\n",
       "       'BARICHARA', 'MARÍA LA BAJA', 'NEMOCÓN', 'MAGANGUÉ', 'MAICAO',\n",
       "       'CARCASÍ', 'LA CALERA', 'SAN ANDRÉS DE TUMACO', 'BOJACÁ',\n",
       "       'PEREIRA', 'ROLDANILLO', 'VILLAGARZÓN', 'GARAGOA', 'SANTACRUZ',\n",
       "       'MONTERÍA', 'SINCELEJO', 'BUENAVISTA', 'BUENAVENTURA', 'CORINTO',\n",
       "       'TUTA', 'TÚQUERRES', 'ANAPOIMA', 'LA DORADA', 'LA PEDRERA',\n",
       "       'BELLO', 'GUATEQUE', 'FUNZA', 'SAMANIEGO', 'RÍO DE ORO', 'ORTEGA',\n",
       "       'CONCEPCIÓN', 'PUENTE NACIONAL', 'LA PAZ', 'RIOSUCIO', 'MITÚ',\n",
       "       'GACHANCIPÁ', 'PLANETA RICA', 'GARZÓN', 'PESCA', 'CUNDAY',\n",
       "       'CHÁMEZA', 'EL CARMEN DE BOLÍVAR', 'AGUACHICA', 'FORTUL',\n",
       "       'POLICARPA', 'QUIPILE', 'SAHAGÚN', 'SAN AGUSTÍN', 'MONTERREY',\n",
       "       'CERETÉ', 'EL TAMBO', 'FLORIDABLANCA', 'CÓRDOBA', 'LORICA',\n",
       "       'RAMIRIQUÍ', 'TIBÚ', 'TENJO', 'CARTAGO', 'APARTADÓ', 'GIRARDOTA',\n",
       "       'FRANCISCO PIZARRO', 'CHITA', 'EL RETORNO',\n",
       "       'SAN ANTONIO DEL TEQUENDAMA', 'CARMEN DE CARUPA', 'TIPACOQUE',\n",
       "       'SABANALARGA', 'CHIPATÁ', 'SANTA ROSA DE VITERBO', 'SAN GIL',\n",
       "       'SOCORRO', 'VILLAMARÍA', 'TAME', 'PÁCORA', 'ÚMBITA', 'CHIMICHAGUA',\n",
       "       'PELAYA', 'SAMACÁ', 'LA MONTAÑITA', 'SARDINATA',\n",
       "       'SAN JUAN DEL CESAR', 'BUGALAGRANDE', 'BELÉN', 'MONIQUIRÁ',\n",
       "       'LANDÁZURI', 'CUMBAL', 'MOSQUERA', 'FONSECA', 'BARBACOAS',\n",
       "       'RIVERA', 'CUÍTIVA', 'PUERTO GAITÁN', 'SUPATÁ', 'CANDELARIA',\n",
       "       'PAZ DE ARIPORO', 'GUÁTICA', 'ITUANGO', 'CUBARÁ', 'OCAÑA', 'TOCA',\n",
       "       'ORITO', 'PIEDECUESTA', 'CHIVATÁ', 'FLANDES', 'GRANADA', 'SOCOTÁ',\n",
       "       'GUADALAJARA DE BUGA', 'CALARCÁ', 'CABRERA', 'PUERTO WILCHES',\n",
       "       'CARURÚ', 'TURMEQUÉ', 'ZETAQUIRA', 'VALLE DEL GUAMUEZ', 'TABIO',\n",
       "       'EL COLEGIO', 'SOMONDOCO', 'GUADALUPE', 'OPORAPA', 'SIBATÉ',\n",
       "       'SAN JUAN DE RIOSECO', 'TAURAMENA', 'CAREPA', 'BOYACÁ',\n",
       "       'GÜICÁN DE LA SIERRA', 'SAN LUIS', 'COLOSÓ', 'MOCOA', 'CONVENCIÓN',\n",
       "       'ITAGÜÍ', 'DOLORES', 'ATACO', 'PUEBLOVIEJO', 'SOCHA', 'FLORIDA',\n",
       "       'LA PLATA', 'PUERTO ASÍS', 'PUEBLO BELLO', 'GUACHUCAL', 'PAMPLONA',\n",
       "       'SAN CARLOS', 'LA FLORIDA', 'OIBA', 'BOLÍVAR', 'CURILLO',\n",
       "       'ARAUQUITA', 'PACHO', 'FALAN', 'CHINÁCOTA', 'MUZO', 'TIBIRITA',\n",
       "       'PÁEZ', 'CIÉNEGA', 'MACHETÁ', 'MOLAGAVITA', 'ARBOLETES', 'INZÁ',\n",
       "       'CÁQUEZA', 'PUERTO SALGAR', 'QUETAME', 'TANGUA', 'LA PALMA',\n",
       "       'TORIBÍO', 'GUACHETÁ', 'EL DORADO', 'SAN LUIS DE PALENQUE',\n",
       "       'CAPARRAPÍ', 'CURUMANÍ', 'NATAGAIMA', 'TULUÁ', 'TURBACO', 'HONDA',\n",
       "       'CAPITANEJO', 'ANSERMA', 'PENSILVANIA', 'CARMEN DE APICALÁ',\n",
       "       'PAZ DE RÍO', 'EL BAGRE', 'MORELIA', 'CUCAITA', 'BARRANCABERMEJA',\n",
       "       'SAN VICENTE DEL CAGUÁN', 'MONTELÍBANO', 'PUERTO CONCORDIA',\n",
       "       'SAN LUIS DE SINCÉ', 'PIAMONTE', 'NOBSA', 'CONTRATACIÓN', 'GUACA',\n",
       "       'BARRANCAS', 'SAN SEBASTIÁN DE MARIQUITA', 'OVEJAS', 'CAJIBÍO',\n",
       "       'AGUSTÍN CODAZZI', 'LABRANZAGRANDE', 'LOS PALMITOS', 'SAMANÁ',\n",
       "       'ÁBREGO', 'SUESCA', 'EL CASTILLO', 'JERICÓ', 'PUPIALES',\n",
       "       'EL COCUY', 'SAN MARTÍN', 'EL SANTUARIO', 'SAN MARTÍN DE LOBA',\n",
       "       'RIONEGRO', 'UNGUÍA', 'PUERRES', 'PUERTO GUZMÁN', 'GUASCA',\n",
       "       'CANTAGALLO', 'PUERTO ARICA', 'SAN JOSÉ DEL FRAGUA',\n",
       "       'PUERTO NARIÑO', 'GUAITARILLA', 'DOSQUEBRADAS', 'ARJONA',\n",
       "       'MOGOTES', 'JAMUNDÍ', 'HATO COROZAL', 'NEIRA', 'BERBEO',\n",
       "       'SAN JOAQUÍN', 'TOCAIMA', 'PALERMO', 'TELLO', 'EL CERRITO',\n",
       "       'REPELÓN', 'SANTA ROSA DE OSOS', 'TADÓ', 'RIOHACHA', 'FÓMEQUE',\n",
       "       'ESPINAL', 'PRADO', 'CHINCHINÁ', 'SIMIJACA', 'VICTORIA',\n",
       "       'EL BANCO', 'GACHALÁ', 'BAJO BAUDÓ', 'SOPÓ', 'ILES',\n",
       "       'PUERTO BOYACÁ', 'VIANÍ', 'PUERTO RICO', 'ANCUYÁ', 'RÁQUIRA',\n",
       "       'LENGUAZAQUE', 'JUAN DE ACOSTA', 'CUCUNUBÁ', 'CUMARAL',\n",
       "       'VISTAHERMOSA', 'ANZOÁTEGUI', 'SANTANDER DE QUILICHAO', 'MARIPÍ',\n",
       "       'UNE', 'ALMAGUER', 'EL PLAYÓN', 'SATIVASUR', 'GONZÁLEZ', 'FLORIÁN',\n",
       "       'GUAYABAL DE SÍQUIMA', 'EL TABLÓN DE GÓMEZ', 'TÁMESIS', 'PASCA',\n",
       "       'SILVIA', 'VENADILLO', 'ALBANIA', 'GUAMAL', 'OTANCHE', 'SOTARA',\n",
       "       'MACANAL', 'CRAVO NORTE', 'SÁCAMA', 'GUAPÍ', 'AYAPEL', 'BOCHALEMA',\n",
       "       'SANDONÁ', 'SABOYÁ', 'SAN PEDRO DE CARTAGO', 'TIMANÁ', 'TAUSA',\n",
       "       'CHINÚ', 'EL GUAMO', 'COGUA', 'NUNCHÍA', 'POTOSÍ', 'ARACATACA',\n",
       "       'SAN VICENTE DE CHUCURÍ', 'MORROA', 'PLANADAS', 'EL COPEY',\n",
       "       'SEVILLA', 'SUSA', 'LA BELLEZA', 'IMUÉS', 'MONGUÍ', 'VIOTÁ',\n",
       "       'CIUDAD BOLÍVAR', 'SAN BERNARDO DEL VIENTO', 'ARANZAZU',\n",
       "       'SANTA MARÍA', 'SAN PELAYO', 'TIBASOSA', 'SUAITA', 'FUNES',\n",
       "       'ALPUJARRA', 'APULO', 'ASTREA', 'PAUNA', 'TEORAMA', 'TERUEL',\n",
       "       'LA UNIÓN', 'AIPE', 'RIOBLANCO', 'ENVIGADO', 'SILVANIA', 'PATÍA',\n",
       "       'RICAURTE', 'FÚQUENE', 'SIMITÍ', 'VERGARA', 'SAN CARLOS DE GUAROA',\n",
       "       'SOLANO', 'LA MACARENA', 'URIBIA', 'LA LLANADA', 'SOLEDAD',\n",
       "       'NECOCLÍ', 'PUERTO LÓPEZ', 'CORRALES', 'EL PAUJÍL', 'COROZAL',\n",
       "       'SANTA ROSA', 'SAN MARCOS', 'CAMPOALEGRE', 'LÉRIDA', 'SESQUILÉ',\n",
       "       'LA SALINA', 'PUERTO CAICEDO', 'REGIDOR', 'SAN MIGUEL',\n",
       "       'SAN CAYETANO', 'CERINZA', 'RONDÓN', 'GUAYABETAL',\n",
       "       'SANTA ROSA DE CABAL', 'SANTO DOMINGO', 'ANDALUCÍA', 'CIÉNAGA',\n",
       "       'ALCALÁ', 'SONSÓN', 'BAHÍA SOLANO', 'ALEJANDRÍA', 'SAN ANTONIO',\n",
       "       'CHIVOR', 'CHIPAQUE', 'TALAIGUA NUEVO', 'SAN BERNARDO',\n",
       "       'LA CHORRERA', 'CHITARAQUE', 'SAN ONOFRE', 'GUATAVITA',\n",
       "       'GÓMEZ PLATA', 'MARINILLA', 'CAJAMARCA', 'CHAGUANÍ',\n",
       "       'SALADOBLANCO', 'FRONTINO', 'EL ESPINO', 'SAN SEBASTIÁN',\n",
       "       'SAN JOSÉ DE PARE', 'MONGUA', 'FOSCA', 'MUTATÁ', 'MELGAR',\n",
       "       'PUERTO LEGUÍZAMO', 'SAN VICENTE FERRER', 'ISTMINA', 'FUNDACIÓN',\n",
       "       'SUTATAUSA', 'CALDAS', 'ALVARADO', 'PUERTO LLERAS', 'SANTUARIO',\n",
       "       'TIERRALTA', 'SALDAÑA', 'CHARALÁ', 'SAN LUIS DE GACENO',\n",
       "       'LOS PATIOS', 'TENZA', 'DAGUA', 'PORE', 'ANOLAIMA', 'SATIVANORTE',\n",
       "       'SAN RAFAEL', 'EL CHARCO', 'GIRÓN', 'BUESACO', 'YONDÓ', 'TARAPACÁ',\n",
       "       'EL CARMEN', 'FILADELFIA', 'LEJANÍAS', 'EL CARMEN DE VIBORAL',\n",
       "       'SAN JUAN NEPOMUCENO', 'ACEVEDO', 'GÜEPSA', 'CARTAGENA DEL CHAIRÁ',\n",
       "       'LLORÓ', 'VILLAPINZÓN', 'GUALMATÁN', 'MANAURE BALCÓN DEL CESAR',\n",
       "       'JENESANO', 'VENTAQUEMADA', 'BARAYA', 'PITAL', 'RONCESVALLES',\n",
       "       'RESTREPO', 'SAN ANDRÉS DE SOTAVENTO', 'CIRCASIA', 'URRAO',\n",
       "       'NOCAIMA', 'TOTORÓ', 'GUACARÍ', 'VILLA DEL ROSARIO', 'QUIBDÓ',\n",
       "       'CUCUTILLA', 'APÍA', 'LA CRUZ', 'SANTIAGO DE TOLÚ', 'TUBARÁ',\n",
       "       'MARGARITA', 'URIBE', 'TENA', 'TESALIA', 'CACHIPAY', 'LA TOLA',\n",
       "       'FUENTE DE ORO', 'CUMARIBO', 'SAN DIEGO', 'CANALETE', 'LEBRIJA',\n",
       "       'VALLE DE SAN JUAN', 'JUNÍN', 'BARRANCO MINAS', 'AGUA DE DIOS',\n",
       "       'CHACHAGÜÍ', 'SAN JACINTO', 'NUEVO COLÓN', 'SAN ZENÓN', 'PANDI',\n",
       "       'PURIFICACIÓN', 'SAN PEDRO', 'SAN JUAN DE ARAMA', 'MERCADERES',\n",
       "       'CONSACÁ', 'CIÉNAGA DE ORO', 'LA CEJA', 'GUAMO', 'ISNOS', 'MOMPÓS',\n",
       "       'TRINIDAD', 'GUACAMAYAS', 'COYAIMA', 'JERUSALÉN',\n",
       "       'SAN JOSÉ DEL PALMAR', 'YACOPÍ', 'PRADERA', 'GALAPA', 'BECERRIL',\n",
       "       'SANTA ROSALÍA', 'ÍQUIRA', 'SANTIAGO', 'CALOTO', 'SASAIMA',\n",
       "       'PROVIDENCIA', 'SALENTO', 'HELICONIA', 'CHISCAS', 'VILLARRICA',\n",
       "       'PUERTO SANTANDER', 'SAN JUANITO', 'TOLÚ VIEJO', 'BRICEÑO',\n",
       "       'TAMINANGO', 'QUINCHÍA', 'ROBERTO PAYÁN', 'PLATO',\n",
       "       'SAN JOSÉ DE LA MONTAÑA', 'MANÍ', 'GINEBRA', 'BALBOA',\n",
       "       'SAN SEBASTIÁN DE BUENAVISTA', 'YACUANQUER', 'ABEJORRAL',\n",
       "       'EL ENCANTO', 'MIRITÍ - PARANÁ', 'PUERTO TEJADA', 'SANTA CATALINA',\n",
       "       'SIACHOQUE', 'TURBO', 'COELLO', 'MESETAS', 'PINILLOS', 'YARUMAL',\n",
       "       'ARGELIA', 'GRAMALOTE', 'MALAMBO', 'LA PLAYA', 'GUAVATÁ', 'TÓPAGA',\n",
       "       'TÁMARA', 'LOS ANDES', 'HACARÍ', 'SAN PABLO', 'ICONONZO',\n",
       "       'CAÑASGORDAS', 'SANTANA', 'CARACOLÍ', 'CALDONO', 'LA PEÑA',\n",
       "       'AGRADO', 'LA PRIMAVERA', 'COPER', 'SAN MIGUEL DE SEMA',\n",
       "       'CHIRIGUANÁ', 'TOGÜÍ', 'TONA', 'MOTAVITA', 'LA JAGUA DE IBIRICO',\n",
       "       'PAICOL', 'YOLOMBÓ', 'SIPÍ', 'VILLAGÓMEZ', 'TOLEDO', 'GAMA',\n",
       "       'EL ROSARIO', 'CURITÍ', 'LINARES', 'BARRANCO DE LOBA', 'MARSELLA',\n",
       "       'OROCUÉ', 'MAGÜÍ', 'CALAMAR', 'NIMAIMA', 'IZA', 'PANQUEBA',\n",
       "       'EL DONCELLO', 'SUTAMARCHÁN', 'SUAZA', 'ENCISO', 'TIMBÍO',\n",
       "       'EL ROSAL', 'COPACABANA', 'EL CANTÓN DEL SAN PABLO', 'SAN BENITO',\n",
       "       'MACARAVITA', 'SURATÁ', 'PALMAR DE VARELA', 'SAN LORENZO',\n",
       "       'SAN BENITO ABAD', 'CUASPÚD', 'VERSALLES', 'PUERTO RONDÓN',\n",
       "       'NARIÑO', 'CHÍQUIZA', 'SANTA FÉ DE ANTIOQUIA', 'HATONUEVO',\n",
       "       'AMBALEMA', 'SIMACOTA', 'AGUADAS', 'COVARACHÍA',\n",
       "       'BELÉN DE LOS ANDAQUÍES', 'ZARZAL', 'SAPUYES', 'UBAQUE',\n",
       "       'LA GLORIA', 'MIRANDA', 'PAJARITO', 'VITERBO', 'CIMITARRA', 'SORA',\n",
       "       'BARANOA', 'LURUACO', 'SOLITA', 'CUBARRAL', 'RÍO VIEJO', 'VIJES',\n",
       "       'PEÑOL', 'ANDES', 'SAN PEDRO DE LOS MILAGROS', 'GUARNE',\n",
       "       'DONMATÍAS', 'SANTA BÁRBARA', 'CASTILLA LA NUEVA', 'SAN ROQUE',\n",
       "       'ANGELÓPOLIS', 'SAN JUAN DE URABÁ', 'MONTENEGRO', 'MACEO',\n",
       "       'SAN ANDRÉS DE CUERQUÍA', 'PEQUE', 'BELMIRA', 'PUERTO NARE',\n",
       "       'EL CARMEN DE ATRATO', 'FREDONIA', 'PUERTO BERRÍO', 'SALGAR',\n",
       "       'PUERTO LIBERTADOR', 'VENECIA', 'SEGOVIA', 'RETIRO',\n",
       "       'SAN PEDRO DE URABÁ', 'ENTRERRÍOS', 'CASABIANCA', 'DABEIBA',\n",
       "       'BELÉN DE UMBRÍA', 'FILANDIA', 'RISARALDA', 'PUERTO TRIUNFO',\n",
       "       'TARAZÁ', 'OLAYA HERRERA', 'MEDIO SAN JUAN', 'CONCORDIA',\n",
       "       'CAROLINA', 'COCORNÁ', 'PUEBLO NUEVO', 'PUEBLORRICO', 'CHIGORODÓ',\n",
       "       'URAMITA', 'EBÉJICO', 'SOPETRÁN', 'CÁCERES', 'JARDÍN', 'CISNEROS',\n",
       "       'AMALFI', 'GALERAS', 'SUPÍA', 'EL ÁGUILA', 'CARAMANTA',\n",
       "       'CUMBITARA', 'CAMPOHERMOSO', 'AMAGÁ', 'UNIÓN PANAMERICANA', 'YALÍ',\n",
       "       'MATANZA', 'VALPARAÍSO', 'BOJAYÁ', 'EL PASO', 'REMEDIOS',\n",
       "       'PUERTO ESCONDIDO', 'PURÍSIMA DE LA CONCEPCIÓN', 'BETULIA',\n",
       "       'QUIMBAYA', 'SABANETA', 'SAN JERÓNIMO', 'MURILLO', 'YAGUARÁ',\n",
       "       'NECHÍ', 'LÓPEZ DE MICAY', 'NORCASIA', 'ZARAGOZA', 'LIBORINA',\n",
       "       'BETANIA', 'MURINDÓ', 'BELALCÁZAR', 'VEGACHÍ', 'HISPANIA',\n",
       "       'LA ESTRELLA', 'ANORÍ', 'SAN JACINTO DEL CAUCA', 'LA MERCED',\n",
       "       'MOÑITOS', 'EL CAIRO', 'CAICEDO', 'SAMPUÉS', 'TITIRIBÍ', 'CONDOTO',\n",
       "       'CÉRTEGUI', 'VALDIVIA', 'QUÍPAMA', 'CAMPAMENTO', 'ABRIAQUÍ',\n",
       "       'ZIPACÓN', 'HERVEO', 'GUATAPÉ', 'ANZÁ', 'GIRALDO', 'BAGADÓ',\n",
       "       'ROVIRA', 'JURADÓ', 'NÓVITA', 'ALTO BAUDÓ', 'YUMBO',\n",
       "       'ANSERMANUEVO', 'SAN ANTERO', 'JAMBALÓ', 'MEDIO BAUDÓ',\n",
       "       'EL CARMEN DE CHUCURÍ', 'ARBOLEDAS', 'MONTEBELLO', 'ACANDÍ',\n",
       "       'EL PIÑÓN', 'PURACÉ', 'CAICEDONIA', 'PIVIJAY', 'BOSCONIA',\n",
       "       'CERRITO', 'MEDINA', 'SANTO TOMÁS', 'DIBULLA', 'MOMIL', 'MAJAGUAL',\n",
       "       'ANGOSTURA', 'MANAURE', 'ALBÁN', 'LABATECA', 'ZAPATOCA',\n",
       "       'EL DOVIO', 'ARCABUCO', 'SAN JUAN DE BETULIA', 'PARATEBUENO',\n",
       "       'SAN JOSÉ', 'ARBOLEDA', 'PALESTINA', 'OSPINA', 'GAMARRA',\n",
       "       'BUENOS AIRES', 'MARULANDA', 'TRUJILLO', 'EL PEÑÓN', 'PIJAO',\n",
       "       'MAPIRIPÁN', 'LA VICTORIA', 'CALIFORNIA', 'SANTA ISABEL',\n",
       "       'MARMATO', 'VILLAVIEJA', 'LA TEBAIDA', 'PIENDAMÓ', 'PAIME',\n",
       "       'LA CUMBRE', 'PUEBLO RICO', 'LA VIRGINIA', 'CALIMA', 'TIMBIQUÍ',\n",
       "       'MORALES', 'PACOA', 'LA SIERRA', 'SAN EDUARDO', 'OBANDO', 'YOTOCO',\n",
       "       'ROSAS', 'SABANA DE TORRES', 'SUÁREZ', 'ULLOA', 'GUTIÉRREZ',\n",
       "       'MANTA', 'CÓMBITA', 'MILÁN', 'ARIGUANÍ', 'LA CAPILLA', 'FLORESTA',\n",
       "       'PALOCABILDO', 'NILO', 'BETÉITIVA', 'ELÍAS', 'CHARTA',\n",
       "       'FIRAVITOBA', 'GUAYATÁ', 'EL GUACAMAYO', 'CAMPO DE LA CRUZ',\n",
       "       'TOTA', 'ENCINO', 'NUQUÍ', 'PAILITAS', 'CHIMÁ', 'BURITICÁ',\n",
       "       'LOS CÓRDOBAS', 'LA JAGUA DEL PILAR', 'RIOFRÍO', 'LEIVA',\n",
       "       'URUMITA', 'SANTA ANA', 'PACHAVITA', 'AGUADA', 'NÁTAGA', 'ARATOCA',\n",
       "       'CHITAGÁ', 'EL PEÑOL', 'SAN JOSÉ DE MIRANDA', 'CHIMA', 'CÁCHIRA',\n",
       "       'LA PINTADA', 'PADILLA', 'EL RETÉN', 'PIJIÑO DEL CARMEN', 'TUTAZÁ',\n",
       "       'TUNUNGUÁ', 'TAMALAMEQUE', 'SOTAQUIRÁ', 'ALTAMIRA', 'PALMITO',\n",
       "       'PIEDRAS', 'TENERIFE', 'SANTA HELENA DEL OPÓN', 'EL MOLINO',\n",
       "       'PUERTO COLOMBIA', 'VALLE DE SAN JOSÉ', 'SUTATENZA', 'PONEDERA',\n",
       "       'GÁMEZA', 'TINJACÁ', 'OICATÁ', 'VIGÍA DEL FUERTE', 'EL ROBLE',\n",
       "       'SAN CRISTÓBAL', 'SORACÁ', 'ZAMBRANO', 'CICUCO', 'SÁCHICA',\n",
       "       'GÁMBITA', 'SAN ESTANISLAO', 'TURBANÁ', 'PALMAS DEL SOCORRO',\n",
       "       'PUERTO ALEGRÍA', 'SABANAGRANDE', 'MISTRATÓ', 'TIQUISIO', 'ONZAGA',\n",
       "       'HOBO', 'SOPLAVIENTO', 'TARAIRA', 'CHIVOLO', 'SITIONUEVO',\n",
       "       'PUERTO PARRA', 'QUEBRADANEGRA', 'ACHÍ', 'PAYA', 'SAN FELIPE',\n",
       "       'ZONA BANANERA', 'SAN ÁNDRES DE TUMACO',\n",
       "       'SAN SEBASTÍAN DE MARIQUITA', 'GUARANDA', 'MIRITÍ- PARANÁ',\n",
       "       'LA CHORERA', 'EL ZULIA', 'SANTA SOFÍA'], dtype=object)"
      ]
     },
     "execution_count": 13,
     "metadata": {},
     "output_type": "execute_result"
    }
   ],
   "source": [
    "matriculados[\"CIU_NAC\"].unique()"
   ]
  },
  {
   "cell_type": "code",
   "execution_count": 14,
   "metadata": {},
   "outputs": [
    {
     "data": {
      "text/plain": [
       "array([11001, 25269, 50001, ..., 25258, 54261, 15696])"
      ]
     },
     "execution_count": 14,
     "metadata": {},
     "output_type": "execute_result"
    }
   ],
   "source": [
    "matriculados[\"COD_CIU_NAC\"].unique()"
   ]
  },
  {
   "cell_type": "code",
   "execution_count": 15,
   "metadata": {},
   "outputs": [
    {
     "data": {
      "text/plain": [
       "array([-74.11391872, -74.35101469, -73.6268779 , ..., -74.29016259,\n",
       "       -72.60393412, -73.60418204])"
      ]
     },
     "execution_count": 15,
     "metadata": {},
     "output_type": "execute_result"
    }
   ],
   "source": [
    "matriculados[\"LON_CIU_NAC\"].unique()"
   ]
  },
  {
   "cell_type": "code",
   "execution_count": 16,
   "metadata": {},
   "outputs": [
    {
     "data": {
      "text/plain": [
       "array([4.62457505, 4.81224201, 4.12295758, ..., 5.24908341, 7.9370731 ,\n",
       "       5.71227372])"
      ]
     },
     "execution_count": 16,
     "metadata": {},
     "output_type": "execute_result"
    }
   ],
   "source": [
    "matriculados[\"LAT_CIU_NAC\"].unique()"
   ]
  },
  {
   "cell_type": "markdown",
   "metadata": {},
   "source": [
    "+ ***DEPARTAMENTO PROCEDIMIENTO***  "
   ]
  },
  {
   "cell_type": "code",
   "execution_count": 17,
   "metadata": {},
   "outputs": [
    {
     "data": {
      "text/plain": [
       "array(['BOGOTÁ, D. C.', 'CUNDINAMARCA', 'META', 'HUILA',\n",
       "       'Sin información', 'NARIÑO', 'BOYACÁ', 'TOLIMA', 'CALDAS',\n",
       "       'VALLE DEL CAUCA', 'NORTE DE SANTANDER', 'PUTUMAYO', 'BOLÍVAR',\n",
       "       'SANTANDER', 'CASANARE', 'GUAVIARE', 'ATLÁNTICO', 'ARAUCA',\n",
       "       'CAQUETÁ', 'AMAZONAS', 'SUCRE',\n",
       "       'ARCHIPIÉLAGO DE SAN ANDRÉS, PROVIDENCIA Y SANTA CATALINA',\n",
       "       'QUINDÍO', 'CESAR', 'MAGDALENA', 'LA GUAJIRA', 'CÓRDOBA', 'CAUCA',\n",
       "       'ANTIOQUIA', 'RISARALDA', 'VAUPÉS', 'VICHADA', 'GUAINÍA', 'CHOCÓ'],\n",
       "      dtype=object)"
      ]
     },
     "execution_count": 17,
     "metadata": {},
     "output_type": "execute_result"
    }
   ],
   "source": [
    "matriculados[\"DEP_PROC\"].unique()"
   ]
  },
  {
   "cell_type": "code",
   "execution_count": 18,
   "metadata": {},
   "outputs": [
    {
     "data": {
      "text/plain": [
       "array([ 11,  25,  50,  41, -89,  52,  15,  73,  17,  76,  54,  86,  13,\n",
       "        68,  85,  95,   8,  81,  18,  91,  70,  88,  63,  20,  47,  44,\n",
       "        23,  19,   5,  66,  97,  99,  94,  27])"
      ]
     },
     "execution_count": 18,
     "metadata": {},
     "output_type": "execute_result"
    }
   ],
   "source": [
    "matriculados[\"COD_DEP_PROC\"].unique()"
   ]
  },
  {
   "cell_type": "markdown",
   "metadata": {},
   "source": [
    "+ ***MUNICIPIO PROCEDIMIENTO***  "
   ]
  },
  {
   "cell_type": "code",
   "execution_count": 23,
   "metadata": {},
   "outputs": [
    {
     "data": {
      "text/plain": [
       "array(['BOGOTÁ, D.C.', 'FACATATIVÁ', 'VILLAVICENCIO', 'NEIVA',\n",
       "       'Sin información', 'IPIALES', 'DUITAMA', 'IBAGUÉ',\n",
       "       'VILLA DE LEYVA', 'CHÍA', 'UBALÁ', 'SOACHA', 'MARQUETALIA',\n",
       "       'TOCANCIPÁ', 'TUNJA', 'CAMPOHERMOSO', 'MOSQUERA', 'CAJICÁ',\n",
       "       'ALDANA', 'CALI', 'CÚCUTA', 'COLÓN', 'PITALITO', 'SOGAMOSO',\n",
       "       'ORITO', 'SANTA ROSA DEL SUR', 'SUCRE', 'TABIO', 'PASTO',\n",
       "       'PUENTE NACIONAL', 'MONTERREY', 'RÁQUIRA', 'YOPAL', 'CHAPARRAL',\n",
       "       'SAN MARTÍN', 'SAN JOSÉ DEL GUAVIARE', 'VALLE DEL GUAMUEZ',\n",
       "       'ZIPAQUIRÁ', 'PAIPA', 'COTA', 'BARRANQUILLA', 'GUASCA', 'ARAUCA',\n",
       "       'AQUITANIA', 'NOCAIMA', 'FLORENCIA', 'GIGANTE', 'FUNZA', 'MALLAMA',\n",
       "       'LETICIA', 'SUSACÓN', 'SAN MARCOS', 'MADRID', 'TARQUI', 'SAN LUIS',\n",
       "       'CARMEN DE APICALÁ', 'CANTAGALLO', 'SUBACHOQUE', 'PAMPLONA',\n",
       "       'PALERMO', 'SAN ANDRÉS DE TUMACO', 'SIBATÉ', 'CHINAVITA',\n",
       "       'BUCARAMANGA', 'MÁLAGA', 'SIBUNDOY', 'VERGARA', 'LA ARGENTINA',\n",
       "       'CONTADERO', 'SAN ANDRÉS', 'MANIZALES', 'GACHANCIPÁ',\n",
       "       'VILLA DE SAN DIEGO DE UBATÉ', 'GUALMATÁN', 'GUAITARILLA',\n",
       "       'BOAVITA', 'BARBOSA', 'FLORIDABLANCA', 'FUSAGASUGÁ', 'CÁQUEZA',\n",
       "       'TENJO', 'LA PAZ', 'SASAIMA', 'LÍBANO', 'GUAMO', 'VILLAPINZÓN',\n",
       "       'FIRAVITOBA', 'GÉNOVA', 'BECERRIL', 'TIBANÁ', 'PLATO', 'SOPÓ',\n",
       "       'CARTAGENA DE INDIAS', 'MAGANGUÉ', 'MAICAO', 'BOJACÁ', 'ARBELÁEZ',\n",
       "       'VILLAGARZÓN', 'LA PLATA', 'COGUA', 'VÉLEZ', 'LORICA',\n",
       "       'VILLANUEVA', 'SINCELEJO', 'MONTERÍA', 'EL BANCO', 'BUENAVENTURA',\n",
       "       'CORINTO', 'TAME', 'TUTA', 'TÚQUERRES', 'LA DORADA', 'MEDELLÍN',\n",
       "       'OCAÑA', 'RIOSUCIO', 'POPAYÁN', 'PLANETA RICA', 'MACARAVITA',\n",
       "       'ARMENIA', 'FÓMEQUE', 'GIRARDOT', 'PALMIRA', 'GIRARDOTA',\n",
       "       'CHÁMEZA', 'AGUACHICA', 'POLICARPA', 'SAN FRANCISCO', 'CHOACHÍ',\n",
       "       'SAHAGÚN', 'SAN AGUSTÍN', 'BARRANCABERMEJA', 'VALLEDUPAR',\n",
       "       'CERETÉ', 'CÓRDOBA', 'PUERTO GAITÁN', 'PAZ DE ARIPORO', 'APARTADÓ',\n",
       "       'GÜEPSA', 'FRANCISCO PIZARRO', 'YOTOCO', 'FLORESTA', 'EL RETORNO',\n",
       "       'TAURAMENA', 'SAN ANTONIO DEL TEQUENDAMA', 'DOSQUEBRADAS', 'MOCOA',\n",
       "       'SABANALARGA', 'VILLAMARÍA', 'SÁCAMA', 'PRADO', 'ÚMBITA',\n",
       "       'SAN BERNARDO DEL VIENTO', 'VENTAQUEMADA', 'PEREIRA',\n",
       "       'CHIMICHAGUA', 'PUERTO LIBERTADOR', 'NEMOCÓN', 'PELAYA', 'MITÚ',\n",
       "       'SARDINATA', 'BARRANCAS', 'PUERTO TEJADA', 'BELLO', 'LANDÁZURI',\n",
       "       'SOMONDOCO', 'CUMBAL', 'CHARALÁ', 'FRESNO', 'CARMEN DE CARUPA',\n",
       "       'COLOSÓ', 'RIVERA', 'SUPATÁ', 'NUNCHÍA', 'PACHO', 'TÁMARA',\n",
       "       'SAN GIL', 'PUERTO CARREÑO', 'GRANADA', 'SOCOTÁ',\n",
       "       'SAN SEBASTIÁN DE MARIQUITA', 'SILVANIA', 'TARAPACÁ', 'ARJONA',\n",
       "       'FORTUL', 'NOBSA', 'OPORAPA', 'SANTA ROSA DE VITERBO', 'INÍRIDA',\n",
       "       'PIEDECUESTA', 'ANAPOIMA', 'CAREPA', 'RESTREPO', 'ALBANIA',\n",
       "       'SANDONÁ', 'LA CALERA', 'SALDAÑA', 'VENECIA', 'FLORIDA', 'GARZÓN',\n",
       "       'CHIQUINQUIRÁ', 'GUADALUPE', 'PUERTO ASÍS', 'PUEBLO BELLO',\n",
       "       'ARAUQUITA', 'SAN CARLOS', 'LA FLORIDA', 'CACHIPAY', 'AGUAZUL',\n",
       "       'LA UNIÓN', 'LÉRIDA', 'GARAGOA', 'MELGAR', 'PIJAO', 'MACHETÁ',\n",
       "       'MOLAGAVITA', 'ARBOLETES', 'SANTA MARTA', 'CALDAS', 'LA MESA',\n",
       "       'SARAVENA', 'TANGUA', 'CAPARRAPÍ', 'BOLÍVAR', 'ORTEGA',\n",
       "       'GUADALAJARA DE BUGA', 'GACHANTIVÁ', 'ENVIGADO', 'TORIBÍO',\n",
       "       'ALGECIRAS', 'GÜICÁN DE LA SIERRA', 'NATAGAIMA', 'CHOCONTÁ',\n",
       "       'MUTATÁ', 'TIMBÍO', 'TURBACO', 'SANTACRUZ', 'SAN PELAYO',\n",
       "       'MONTELÍBANO', 'JAMUNDÍ', 'TENA', 'ACACÍAS', 'CUMARAL',\n",
       "       'NUEVO COLÓN', 'HATONUEVO', 'OVEJAS', 'CAJIBÍO', 'AGUSTÍN CODAZZI',\n",
       "       'PAZ DE RÍO', 'LABRANZAGRANDE', 'LOS PALMITOS', 'SIMIJACA',\n",
       "       'ÁBREGO', 'ATACO', 'PUERTO NARIÑO', 'EL CASTILLO', 'JERICÓ',\n",
       "       'PUPIALES', 'EL COCUY', 'CHINÁCOTA', 'RIOHACHA',\n",
       "       'SAN MARTÍN DE LOBA', 'SIACHOQUE', 'MARINILLA', 'CLEMENCIA',\n",
       "       'EL ROSAL', 'TAUSA', 'ANCUYÁ', 'SAN VICENTE DEL CAGUÁN',\n",
       "       'RAMIRIQUÍ', 'GUACHUCAL', 'APULO', 'EL CERRITO', 'ARBOLEDAS',\n",
       "       'VISTAHERMOSA', 'SAN CARLOS DE GUAROA', 'TADÓ', 'SAMANIEGO',\n",
       "       'CIRCASIA', 'EL PEÑOL', 'VILLA DEL ROSARIO', 'TIERRALTA',\n",
       "       'RIONEGRO', 'TULUÁ', 'QUETAME', 'VICTORIA', 'EL CARMEN DE BOLÍVAR',\n",
       "       'GUACHETÁ', 'RICAURTE', 'QUIPILE', 'SABOYÁ', 'ILES',\n",
       "       'HATO COROZAL', 'ARMERO GUAYABAL', 'VIANÍ', 'LENGUAZAQUE',\n",
       "       'BUENAVISTA', 'EL ZULIA', 'UNE', 'SOATÁ', 'TIBÚ', 'FÚQUENE',\n",
       "       'MONIQUIRÁ', 'GUAYABAL DE SÍQUIMA', 'GUADUAS', 'GALAPA',\n",
       "       'EL TABLÓN DE GÓMEZ', 'COVARACHÍA', 'TIBASOSA', 'PÁEZ',\n",
       "       'SUTATAUSA', 'CARTAGO', 'EL BAGRE', 'OTANCHE', 'LOS PATIOS',\n",
       "       'LEBRIJA', 'SAN JOSÉ DE MIRANDA', 'CALOTO', 'TASCO', 'LA PEÑA',\n",
       "       'MARÍA LA BAJA', 'BOCHALEMA', 'SUESCA', 'BERBEO', 'MANAURE',\n",
       "       'LA MONTAÑITA', 'SOCORRO', 'ASTREA', 'SUSA', 'BELÉN', 'MIRAFLORES',\n",
       "       'ITAGÜÍ', 'SAN PEDRO DE CARTAGO', 'MANZANARES', 'CHINÚ', 'PASCA',\n",
       "       'CORRALES', 'LA PLAYA', 'EL COLEGIO', 'PLANADAS', 'TÁMESIS',\n",
       "       'AGUA DE DIOS', 'FILANDIA', 'LA BELLEZA', 'CALARCÁ', 'VIOTÁ',\n",
       "       'ARANZAZU', 'PROVIDENCIA', 'PAMPLONITA', 'SUAITA', 'SANTANA',\n",
       "       'PUERTO SALGAR', 'FUNES', 'ZIPACÓN', 'LA CAPILLA', 'ANOLAIMA',\n",
       "       'TEORAMA', 'BARBACOAS', 'SATIVANORTE', 'IMUÉS', 'PUERTO GUZMÁN',\n",
       "       'OICATÁ', 'MARIPÍ', 'GUATEQUE', 'LA MACARENA', 'LA LLANADA',\n",
       "       'LA PEDRERA', 'ESPINAL', 'COPER', 'VILLETA', 'LA ESTRELLA',\n",
       "       'COROZAL', 'PATÍA', 'SESQUILÉ', 'PUERTO CAICEDO', 'SOLEDAD',\n",
       "       'SANTA ROSA', 'CERINZA', 'RONDÓN', 'GIRÓN', 'MUZO', 'SIMITÍ',\n",
       "       'IZA', 'BAHÍA SOLANO', 'HONDA', 'SUTATENZA', 'LA VEGA', 'EL TAMBO',\n",
       "       'CHIPAQUE', 'TALAIGUA NUEVO', 'PRADERA', 'CUASPÚD', 'SAN BERNARDO',\n",
       "       'SAN MIGUEL DE SEMA', 'TENZA', 'CHITARAQUE', 'SAN MIGUEL',\n",
       "       'TOCAIMA', 'SAN ONOFRE', 'INZÁ', 'MURILLO', 'GACHETÁ', 'SILVIA',\n",
       "       'FOSCA', 'PUERTO LEGUÍZAMO', 'SANTA ROSA DE CABAL', 'CANDELARIA',\n",
       "       'PALESTINA', 'PORE', 'SAN PABLO', 'ALTAMIRA', 'CHACHAGÜÍ',\n",
       "       'EL PAUJÍL', 'MIRANDA', 'EL CHARCO', 'SOTARA', 'POTOSÍ',\n",
       "       'BUENOS AIRES', 'SAN ANDRÉS DE SOTAVENTO', 'CRAVO NORTE', 'YUMBO',\n",
       "       'CUCUNUBÁ', 'PANDI', 'ACEVEDO', 'CARTAGENA DEL CHAIRÁ', 'MONGUÍ',\n",
       "       'ROLDANILLO', 'CAICEDONIA', 'BARAYA', 'SANTA SOFÍA', 'GÁMEZA',\n",
       "       'SANTANDER DE QUILICHAO', 'SAMACÁ', 'UNGUÍA', 'URIBE', 'QUIBDÓ',\n",
       "       'CUBARÁ', 'EL CARMEN', 'LA PALMA', 'SANTIAGO DE TOLÚ', 'MARGARITA',\n",
       "       'PUERTO BOYACÁ', 'SAN LUIS DE GACENO', 'LA TOLA',\n",
       "       'SAN PABLO DE BORBUR', 'SAN CAYETANO', 'SAN LUIS DE PALENQUE',\n",
       "       'GUAMAL', 'ANDALUCÍA', 'PAJARITO', 'CHAGUANÍ', 'GUACAMAYAS',\n",
       "       'JUNÍN', 'GÁMBITA', 'SABANETA', 'SAN JACINTO', 'SAN ZENÓN', 'OIBA',\n",
       "       'MEDINA', 'SANTIAGO', 'TIBACUY', 'EL COPEY', 'MOMPÓS', 'TRINIDAD',\n",
       "       'COYAIMA', 'JERUSALÉN', 'MANAURE BALCÓN DEL CESAR', 'FLANDES',\n",
       "       'TURMEQUÉ', 'LEJANÍAS', 'NILO', 'SANTA ROSALÍA', 'ÍQUIRA',\n",
       "       'BUESACO', 'GUATAVITA', 'UBAQUE', 'LA CRUZ', 'CHISCAS',\n",
       "       'PURIFICACIÓN', 'PITAL', 'ALPUJARRA', 'AIPE', 'YACUANQUER',\n",
       "       'TOLÚ VIEJO', 'PAUNA', 'MACANAL', 'GUAPÍ', 'SAN JOSÉ DEL FRAGUA',\n",
       "       'SAN JUAN DE RIOSECO', 'CONSACÁ', 'GINEBRA', 'VILLAHERMOSA',\n",
       "       'TÓPAGA', 'GAMA', 'MOTAVITA', 'MIRITÍ - PARANÁ', 'ICONONZO',\n",
       "       'SAMPUÉS', 'TIMANÁ', 'BARICHARA', 'TURBO', 'CHITA', 'ENCINO',\n",
       "       'EL ESPINO', 'SAN EDUARDO', 'CAUCASIA', 'PINILLOS', 'CONTRATACIÓN',\n",
       "       'YARUMAL', 'CHINCHINÁ', 'LOS ANDES', 'MERCADERES', 'JENESANO',\n",
       "       'PUERTO ARICA', 'CASABIANCA', 'TESALIA', 'CALDONO', 'VILLARRICA',\n",
       "       'CONVENCIÓN', 'BUGALAGRANDE', 'AGRADO', 'EL PASO', 'SUTAMARCHÁN',\n",
       "       'GACHALÁ', 'LINARES', 'JARDÍN', 'PAICOL', 'ZETAQUIRA', 'ISTMINA',\n",
       "       'CONCEPCIÓN', 'VILLAGÓMEZ', 'PUERRES', 'CURITÍ', 'RÍO DE ORO',\n",
       "       'TOTA', 'OROCUÉ', 'BOYACÁ', 'CAMPOALEGRE', 'PUERTO COLOMBIA',\n",
       "       'OSPINA', 'ROBERTO PAYÁN', 'PIENDAMÓ', 'CALIMA', 'ALVARADO',\n",
       "       'LA JAGUA DE IBIRICO', 'RIOBLANCO', 'ALBÁN', 'COPACABANA',\n",
       "       'EL CANTÓN DEL SAN PABLO', 'PALMAR DE VARELA', 'PENSILVANIA',\n",
       "       'SAN LUIS DE SINCÉ', 'SAN LORENZO', 'SAN BENITO ABAD', 'CUMARIBO',\n",
       "       'EL DONCELLO', 'NARIÑO', 'DABEIBA', 'ISNOS', 'TORO',\n",
       "       'SANTA CATALINA', 'MOÑITOS', 'ENCISO', 'SOCHA',\n",
       "       'VALLE DE SAN JUAN', 'SANTUARIO', 'SAN VICENTE DE CHUCURÍ', 'TOCA',\n",
       "       'SAN JOSÉ DE PARE', 'GUAYATÁ', 'DOLORES', 'BARANOA', 'SOLITA',\n",
       "       'SAN ROQUE', 'LA CEJA', 'GUARNE', 'PUERTO BERRÍO', 'LEIVA',\n",
       "       'VENADILLO', 'SAN VICENTE FERRER', 'SANTA ROSA DE OSOS', 'PEÑOL',\n",
       "       'EL SANTUARIO', 'ANDES', 'SAN PEDRO DE LOS MILAGROS', 'AMAGÁ',\n",
       "       'SONSÓN', 'DONMATÍAS', 'SANTA BÁRBARA', 'CISNEROS', 'RETIRO',\n",
       "       'URRAO', 'SANTO DOMINGO', 'SAN JUAN DE URABÁ', 'CIUDAD BOLÍVAR',\n",
       "       'SANTA FÉ DE ANTIOQUIA', 'ENTRERRÍOS', 'URAMITA', 'PUERTO NARE',\n",
       "       'EL CARMEN DE ATRATO', 'ANSERMA', 'SALAMINA', 'ANZOÁTEGUI',\n",
       "       'GALERAS', 'SALGAR', 'UNIÓN PANAMERICANA', 'EL CARMEN DE VIBORAL',\n",
       "       'ANGOSTURA', 'SAN PEDRO DE URABÁ', 'HELICONIA', 'PUERTO RICO',\n",
       "       'COCORNÁ', 'SUPÍA', 'FREDONIA', 'ALEJANDRÍA', 'CIÉNAGA DE ORO',\n",
       "       'ANGELÓPOLIS', 'TARAZÁ', 'OLAYA HERRERA', 'CAROLINA',\n",
       "       'PUEBLO NUEVO', 'CHIGORODÓ', 'CÁCERES', 'SAN RAFAEL', 'AMALFI',\n",
       "       'PUERTO TRIUNFO', 'SAN JOSÉ DE LA MONTAÑA', 'GÓMEZ PLATA',\n",
       "       'CIMITARRA', 'ARGELIA', 'CARAMANTA', 'MARULANDA', 'YALÍ', 'CHARTA',\n",
       "       'ITUANGO', 'REMEDIOS', 'CARACOLÍ', 'CANALETE', 'ABEJORRAL',\n",
       "       'PURÍSIMA DE LA CONCEPCIÓN', 'BETULIA', 'FRONTINO', 'QUIMBAYA',\n",
       "       'SEVILLA', 'CHITAGÁ', 'YAGUARÁ', 'NECHÍ', 'CAMPAMENTO', 'ABRIAQUÍ',\n",
       "       'TONA', 'RISARALDA', 'SEGOVIA', 'ZARZAL', 'CAÑASGORDAS',\n",
       "       'ZAPATOCA', 'TITIRIBÍ', 'MORALES', 'QUINCHÍA', 'EBÉJICO', 'AYAPEL',\n",
       "       'BAJO BAUDÓ', 'YOLOMBÓ', 'LA MERCED', 'BELALCÁZAR', 'SAMANÁ',\n",
       "       'LA CHORRERA', 'ATRATO', 'GUATAPÉ', 'AGUADAS', 'ANORÍ', 'CARCASÍ',\n",
       "       'HISPANIA', 'TAMALAMEQUE', 'SAPUYES', 'SUAZA', 'SOPETRÁN',\n",
       "       'BETANIA', 'BELMIRA', 'TAMINANGO', 'SAN JERÓNIMO', 'RÍO IRÓ',\n",
       "       'CÉRTEGUI', 'VALDIVIA', 'MALAMBO', 'PURACÉ',\n",
       "       'SAN SEBASTIÁN DE BUENAVISTA', 'FONSECA', 'NECOCLÍ', 'GUACARÍ',\n",
       "       'CONCORDIA', 'CHIMÁ', 'ANZÁ', 'PEQUE', 'PÁRAMO', 'MORROA',\n",
       "       'GIRALDO', 'CIÉNAGA', 'TOTORÓ', 'MONTEBELLO', 'GUTIÉRREZ', 'MAGÜÍ',\n",
       "       'ELÍAS', 'PUEBLORRICO', 'SAN PEDRO', 'SALADOBLANCO', 'SAN ANTERO',\n",
       "       'PÁCORA', 'JAMBALÓ', 'OBANDO', 'CONDOTO', 'ALCALÁ', 'ACANDÍ',\n",
       "       'BRICEÑO', 'LA VICTORIA', 'TIBIRITA', 'MACEO', 'ZARAGOZA',\n",
       "       'SAN ANDRÉS DE CUERQUÍA', 'VALPARAÍSO', 'PIVIJAY', 'LOS CÓRDOBAS',\n",
       "       'BOSCONIA', 'MANÍ', 'BURITICÁ', 'CERRITO', 'LA APARTADA',\n",
       "       'SANTO TOMÁS', 'MAJAGUAL', 'TOLEDO', 'GUÁTICA', 'CHIRIGUANÁ',\n",
       "       'ARCABUCO', 'LA PINTADA', 'ALMAGUER', 'SAN JOSÉ DEL PALMAR',\n",
       "       'ACHÍ', 'TIPACOQUE', 'ULLOA', 'MEDIO SAN JUAN',\n",
       "       'SAN JUAN DE BETULIA', 'SALENTO', 'PANQUEBA', 'NEIRA', 'HERVEO',\n",
       "       'ANSERMANUEVO', 'SAN JOSÉ', 'MARSELLA', 'VILLA RICA', 'NORCASIA',\n",
       "       'BALBOA', 'MONTENEGRO', 'RIOFRÍO', 'FILADELFIA', 'PARATEBUENO',\n",
       "       'MESETAS', 'SABANA DE TORRES', 'EL CAIRO', 'CALIFORNIA', 'MARMATO',\n",
       "       'VILLAVIEJA', 'CAJAMARCA', 'PULÍ', 'BOJAYÁ', 'DAGUA', 'EL ENCANTO',\n",
       "       'BELÉN DE UMBRÍA', 'LA CUMBRE', 'PUEBLO RICO', 'PESCA', 'VITERBO',\n",
       "       'EL PEÑÓN', 'LA VIRGINIA', 'NÓVITA', 'EL DOVIO', 'PALOCABILDO',\n",
       "       'CASTILLA LA NUEVA', 'CURILLO', 'RECETOR', 'PADILLA',\n",
       "       'RONCESVALLES', 'TRUJILLO', 'VERSALLES', 'MAPIRIPÁN', 'SUÁREZ',\n",
       "       'BARRANCO MINAS', 'VIJES', 'SAN SEBASTIÁN', 'PAIME', 'CÓMBITA',\n",
       "       'PUERTO RONDÓN', 'PINCHOTE', 'SANTA MARÍA', 'SAN MATEO',\n",
       "       'CAPITANEJO', 'YACOPÍ', 'SAN JUAN DEL CESAR', 'FALAN',\n",
       "       'SAN JUANITO', 'MILÁN', 'PUERTO LLERAS', 'URIBIA', 'RÍO VIEJO',\n",
       "       'CUMBITARA', 'PAILITAS', 'DISTRACCIÓN', 'JUAN DE ACOSTA',\n",
       "       'PIJIÑO DEL CARMEN', 'YONDÓ', 'SAN JACINTO DEL CAUCA', 'CAICEDO',\n",
       "       'TELLO', 'LA GLORIA', 'ROVIRA', 'NUQUÍ', 'LA JAGUA DEL PILAR',\n",
       "       'FUNDACIÓN', 'LA TEBAIDA', 'SAN DIEGO', 'CURUMANÍ', 'TINJACÁ',\n",
       "       'CHIVOR', 'DIBULLA', 'COROMORO', 'PACHAVITA', 'OCAMONTE',\n",
       "       'PUERTO LÓPEZ', 'VEGACHÍ', 'LA PRIMAVERA', 'EL CALVARIO', 'HOBO',\n",
       "       'MONGUA', 'ARACATACA', 'CUÍTIVA', 'SÁCHICA', 'VIRACACHÁ',\n",
       "       'BUSBANZÁ', 'SAN ANTONIO', 'SOTAQUIRÁ', 'TIMBIQUÍ',\n",
       "       'BARRANCA DE UPÍA', 'SAN JUAN NEPOMUCENO', 'MOGOTES', 'EL ROSARIO',\n",
       "       'EL MOLINO', 'VALLE DE SAN JOSÉ', 'PONEDERA', 'MAHATES', 'TERUEL',\n",
       "       'SAN JUAN DE ARAMA', 'SIMACOTA', 'LIBORINA', 'TUCHÍN', 'PALMAR',\n",
       "       'EL ROBLE', 'SORA', 'MUTISCUA', 'CIÉNEGA', 'GAMARRA',\n",
       "       'QUEBRADANEGRA', 'SATIVASUR', 'CHIVATÁ', 'CUCAITA', 'SORACÁ',\n",
       "       'SAN ALBERTO', 'TARSO', 'GUACHENÉ', 'RAGONVALIA', 'APÍA',\n",
       "       'URUMITA', 'ZONA BANANERA', 'TIQUISIO', 'TOGÜÍ', 'GUAVATÁ',\n",
       "       'EL DORADO', 'CHIPATÁ', 'PAYA', 'COVEÑAS', 'BETÉITIVA', 'CALAMAR',\n",
       "       'VIGÍA DEL FUERTE', 'MISTRATÓ', 'EL ÁGUILA', 'LLORÓ', 'CUBARRAL',\n",
       "       'CABUYARO', 'CHIVOLO', 'GUAYABETAL', 'TUNUNGUÁ', 'MORELIA',\n",
       "       'NIMAIMA', 'EL GUACAMAYO', 'CHÍQUIZA', 'MANTA', 'PUERTO SANTANDER',\n",
       "       'PALMITO', 'PUERTO ESCONDIDO', 'GUARANDA', 'FLORIÁN', 'ARENAL',\n",
       "       'CABRERA', 'PUERTO CONCORDIA'], dtype=object)"
      ]
     },
     "execution_count": 23,
     "metadata": {},
     "output_type": "execute_result"
    }
   ],
   "source": [
    "matriculados[\"CIU_PROC\"].unique()"
   ]
  },
  {
   "cell_type": "code",
   "execution_count": 24,
   "metadata": {},
   "outputs": [
    {
     "data": {
      "text/plain": [
       "array([11001, 25269, 50001, 41001,   -89, 52356, 15238, 73001, 15407,\n",
       "       25175, 25839, 25754, 17444, 25817, 15001, 15135, 25473, 25126,\n",
       "       52022, 76001, 54001, 86219, 41551, 15759, 86320, 13688, 68773,\n",
       "       25785, 52001, 68572, 85162, 15600, 85001, 73168, 50689, 95001,\n",
       "       86865, 25899, 15516, 25214,  8001, 25322, 81001, 15047, 25491,\n",
       "       18001, 41306, 25286, 52435, 91001, 15774, 70708, 25430, 41791,\n",
       "       73678, 73148, 13160, 25769, 54518, 41524, 52835, 25740, 15172,\n",
       "       68001, 68432, 86749, 25862, 41378, 52210, 88001, 17001, 25295,\n",
       "       25843, 52323, 52320, 15097, 68077, 68276, 25290, 25151, 25799,\n",
       "       68397, 25718, 73411, 73319, 25873, 15272, 63302, 20045, 15804,\n",
       "       47555, 25758, 13001, 13430, 44430, 25099, 25053, 86885, 41396,\n",
       "       25200, 68861, 23417, 13873, 70001, 23001, 47245, 76109, 19212,\n",
       "       81794, 15837, 52838, 17380,  5001, 54498, 17614, 19001, 23555,\n",
       "       68425, 63001, 25279, 25307, 76520,  5308, 85015, 20011, 52540,\n",
       "       25658, 25181, 23660, 41668, 68081, 20001, 23162, 52215, 50568,\n",
       "       85250,  5045, 68327, 52520, 76890, 15276, 95025, 85410, 25645,\n",
       "       66170, 86001,  8638, 17873, 85315, 73563, 15842, 23675, 15861,\n",
       "       66001, 20175, 23580, 25486, 20550, 97001, 54720, 44078, 19573,\n",
       "        5088, 68385, 15761, 52227, 68167, 52473, 73283, 25154, 70204,\n",
       "       41615, 25777, 85225, 25513, 85400, 68679, 99001, 50313, 15755,\n",
       "       73443, 25743, 91798, 13052, 81300, 15491, 41503, 15693, 94001,\n",
       "       68547, 25035,  5147, 76606, 44035, 52683, 25377, 73671, 25506,\n",
       "       76275, 41298, 15176, 41319, 86568, 20570, 81065, 23678, 52381,\n",
       "       25123, 85010, 76400, 73408, 15299, 73449, 63548, 25426, 68468,\n",
       "        5051, 47001, 15131, 25386, 20621, 81736, 52788, 25148, 19100,\n",
       "       73504, 76111, 15293,  5266, 19821, 41020, 15332, 73483, 25183,\n",
       "        5480, 19807, 13836, 52699, 23686, 23466, 76364, 25797, 50006,\n",
       "       50226, 15494, 44378, 70508, 19130, 20013, 15537, 15377, 70418,\n",
       "       25745, 54003, 73067, 91540, 50251,  5368, 52585, 15244, 54172,\n",
       "       44001, 13667, 15740,  5440, 68101, 13222, 25260, 25793, 52036,\n",
       "       18753, 15599, 52317, 25599, 76248, 54051, 50711,  5129, 50680,\n",
       "       27787, 52678, 63190, 52254, 54874, 23807,  5615, 76834, 25312,\n",
       "       25594, 17867, 13244, 25317, 52612, 25596, 15632, 52352, 85125,\n",
       "       73055, 25867, 85440, 25407, 15109, 54261, 25845, 15753, 54810,\n",
       "       25288, 15469, 25328, 25320,  8296, 52258, 15218, 15806, 19517,\n",
       "       25781, 76147,  5250, 15507, 54405, 68406, 68684, 19142, 15790,\n",
       "       25398, 13442, 54099, 25772, 15090, 44560, 18410, 68755, 20032,\n",
       "       25779, 52083, 15455,  5360, 52694, 17433, 23182, 25535, 15215,\n",
       "       54398, 25245, 73555,  5789, 25001, 63272, 68377, 63130, 25878,\n",
       "       17050, 88564, 54520, 68770, 15686, 25572, 52287, 25898, 85300,\n",
       "       15087, 15380, 15514, 25040, 54800, 52079, 15720, 52354, 86571,\n",
       "       15500, 15442, 15322, 50350, 52385, 91407, 73268, 15212, 25875,\n",
       "        5380, 70215, 19532, 25736, 86569,  8758, 19701, 15162, 15621,\n",
       "       50606, 68307, 15480, 13744, 52203, 15362, 27075, 73349, 15778,\n",
       "       25402, 52260, 25178, 13780, 76563, 52224, 52685, 15676, 15798,\n",
       "       15185, 86757, 25815, 70713, 19355, 86755, 73461, 25297, 19743,\n",
       "       25281, 86573, 66682, 76130, 41530, 85263, 52693, 41026, 52240,\n",
       "       52399, 18256, 19455, 52250, 19760, 52560, 19110, 23670, 81220,\n",
       "       76892, 25224, 25524, 41006, 18150, 15466, 76622, 76122, 41078,\n",
       "       15696, 15296, 19698, 15646, 27800, 50370, 27001, 15223, 54245,\n",
       "       25394, 70820, 13440, 15572, 19256, 15667, 95200, 52390, 15681,\n",
       "       15368, 25653, 85325, 47318, 76036, 15518, 25168, 15317, 25372,\n",
       "       68298,  5631, 13654, 47703, 68500, 25438, 86760, 25805, 20238,\n",
       "       13468, 85430, 73217, 25368, 20443, 73275, 15835, 50400, 25488,\n",
       "       99624, 41357, 13670, 52110, 25326, 25841, 52378, 15180, 73585,\n",
       "       41548, 73024, 41016, 52885, 70823, 15531, 15425, 19318, 18610,\n",
       "       25662, 52207, 76306, 13683, 73870, 15820, 25299, 15476, 91460,\n",
       "       73352, 70670, 41807, 68079,  5837, 15183, 68264, 15248, 15660,\n",
       "        5154, 13549, 68211,  5887, 17174, 52418, 19450, 15367, 91536,\n",
       "       73152, 41797, 19137, 73873, 54206, 76113, 41013, 20250, 15776,\n",
       "       25293, 52411,  5364, 68669, 41518, 15897, 27361, 68207, 25871,\n",
       "       52573, 68229, 20614, 15822, 85230, 15104, 41132,  8573, 52506,\n",
       "       50318, 52621, 19548, 76126, 73026, 20400, 73616, 25019,  5212,\n",
       "       27135,  8520, 25649, 17541, 70742, 52687, 70678, 99773, 18247,\n",
       "       25483,  5234, 41359, 76823, 13673, 23500, 68266, 15757, 73854,\n",
       "       66687, 68689, 15814, 15664, 15325, 73236,  8078, 18785,  5670,\n",
       "        5079,  5376,  5318,  5579, 52405, 73861,  5674,  5686,  5541,\n",
       "        5697,  5034,  5664,  5030,  5756,  5237,  5679,  5190,  5607,\n",
       "        5847,  5690,  5659,  5101,  5042,  5264,  5842,  5585, 27245,\n",
       "       17042, 17653, 73043, 70235,  5642,  5313, 27810,  5148,  5038,\n",
       "        5665,  5347, 18592,  5197, 17777,  5282,  5021,  5649, 23189,\n",
       "        5036,  5790, 52490,  5150, 23570,  5172,  5400,  5120,  5667,\n",
       "        5031,  5628,  5591,  5658,  5310, 68190,  5055,  5145, 17446,\n",
       "        5885, 68169,  5361,  5604,  5142, 23090,  5002, 23586,  5660,\n",
       "        5093,  5284, 63594, 20770, 76736, 54174, 41885,  5495,  5134,\n",
       "        5004, 68820, 52480, 17616, 70400,  5736, 76895,  5138, 68895,\n",
       "        5059,  5809, 19473,  5315, 66594,  5240, 23068, 27077,  5890,\n",
       "        5861, 17388, 17088, 17662, 91405, 27050,  5321, 17013,  5040,\n",
       "       68152,  5353, 20787, 52720, 41770,  5761,  5091,  5086, 52786,\n",
       "        5656, 27580, 27160,  5854,  8433, 19585, 47692, 44279, 19397,\n",
       "        5490, 76318,  5209, 23168,  5652,  5044,  5543, 68533, 70473,\n",
       "        5306, 47189,  5206, 19824,  5467, 25339, 52427, 70110, 41244,\n",
       "        5576, 70717, 41660, 23672, 17513, 19364, 76497, 27205, 76020,\n",
       "       44874, 27006, 63111, 15106, 76403, 25807, 23079,  5425,  5895,\n",
       "        5647, 18860, 47551, 23419, 20060, 85139,  5113, 68162, 23350,\n",
       "        8685, 70429, 54820, 66318, 20178, 15051,  5390, 19022, 27660,\n",
       "       13006, 15810,  5856, 76845,  5819, 27450,  5107, 70702, 63690,\n",
       "       15522, 17486, 73347, 76041, 17665, 66440, 19845, 17524, 17495,\n",
       "       66075, 63470, 76616, 17272, 25530, 19290, 50330, 68655, 76100,\n",
       "       76246, 68132, 17442, 41872, 73124, 25580, 27099, 76233, 91263,\n",
       "       66088, 76377, 66572, 15542, 17877, 68250, 66400, 27491, 52565,\n",
       "       76250, 73520, 50150, 18205, 85279, 19513, 73622, 76828, 76863,\n",
       "       50325, 19780, 94343, 76869, 19693, 25518, 15204, 81591, 68549,\n",
       "       41676, 15690, 15673, 68147, 25885, 44650, 73270, 50686, 18460,\n",
       "       50577, 44847, 13600, 52233, 20517, 44098,  8372, 47545,  5893,\n",
       "       13655,  5125, 41799, 20383, 73624, 27495, 44420, 47288, 63401,\n",
       "       20750, 20228, 19075, 15808, 68686, 15236, 44090, 68217, 15511,\n",
       "       68498, 50573, 68020,  5858, 99524, 18029, 50245, 41349, 15464,\n",
       "       76054, 52696, 19785, 47053, 15226, 15638, 15879, 15114, 73675,\n",
       "       15763, 19809, 50110, 19050, 27615, 13657, 68464, 52256, 44110,\n",
       "       68855,  8560, 25258, 13433, 41801, 50683, 68745, 68615,  5411,\n",
       "       23815, 68522, 70233, 15762, 54480, 15189, 25612, 20295, 25592,\n",
       "       15723, 15187, 15224, 15764, 20710,  5792, 19300, 54599, 66045,\n",
       "       44855, 47980, 13810, 68092, 15816, 68324, 50270, 68179, 15533,\n",
       "       70221, 15092, 95015,  5873, 66456, 76243, 27413, 50223, 50124,\n",
       "       47170, 25335, 15832, 18479, 25489, 68245, 15232, 25436, 91669,\n",
       "       70523, 23574, 70265, 68271, 13042, 76670, 25120, 50450, 68872])"
      ]
     },
     "execution_count": 24,
     "metadata": {},
     "output_type": "execute_result"
    }
   ],
   "source": [
    "matriculados[\"COD_CIU_PROC\"].unique()"
   ]
  },
  {
   "cell_type": "code",
   "execution_count": 25,
   "metadata": {},
   "outputs": [
    {
     "data": {
      "text/plain": [
       "array([-74.11391872, -74.35101469, -73.6268779 , -75.27794587,\n",
       "       -89.        , -77.64609566, -73.03026863, -75.19635015,\n",
       "       -73.52644551, -74.04964819, -73.53230677, -74.19490154,\n",
       "       -75.04785397, -73.91174581, -73.35436382, -73.10351821,\n",
       "       -74.22826847, -74.02363653, -77.70037482, -76.5263912 ,\n",
       "       -72.50559097, -76.96898003, -76.04040041, -72.9232369 ,\n",
       "       -76.88020986, -74.05144607, -73.79149045, -74.09847546,\n",
       "       -77.27826745, -73.67750975, -72.88909564, -73.63228856,\n",
       "       -72.39379053, -75.48358221, -73.69597218, -72.640096  ,\n",
       "       -76.90503951, -73.99240307, -73.11674378, -74.10293364,\n",
       "       -74.81878809, -73.87806905, -70.76277305, -72.88435052,\n",
       "       -74.37747361, -75.60799327, -75.54572948, -74.2019794 ,\n",
       "       -77.86465833, -69.94067983, -72.68978803, -75.13902232,\n",
       "       -74.26675545, -75.8267662 , -75.09587039, -74.72333124,\n",
       "       -73.92442804, -74.17223596, -72.64821106, -75.43278509,\n",
       "       -78.78940097, -74.25874939, -73.36862894, -73.13232523,\n",
       "       -72.73213331, -76.92128718, -74.34546781, -75.97916545,\n",
       "       -77.54783263, -81.69604148, -75.49041506, -73.87291756,\n",
       "       -73.8196124 , -77.5664755 , -77.54791206, -72.58477522,\n",
       "       -73.61756027, -73.09912164, -74.36636797, -73.94657392,\n",
       "       -74.14345182, -73.58956795, -74.43294791, -75.05322017,\n",
       "       -74.97149505, -73.5968136 , -72.9937204 , -75.7895561 ,\n",
       "       -73.27810734, -73.3967445 , -74.78364483, -73.93888529,\n",
       "       -75.50122922, -74.75566786, -72.24303615, -74.34756312,\n",
       "       -74.41608401, -76.61680969, -75.89111222, -73.97825825,\n",
       "       -73.67452042, -75.81688954, -75.27622198, -75.38521942,\n",
       "       -75.89563933, -73.97939172, -77.02056522, -76.26162728,\n",
       "       -71.74365326, -73.22588537, -77.61785363, -74.67445215,\n",
       "       -75.57705563, -73.35519572, -75.70231885, -76.62478764,\n",
       "       -75.5840215 , -72.59328888, -75.67624541, -73.89273351,\n",
       "       -74.81046294, -76.29821561, -75.44369899, -72.86988999,\n",
       "       -73.60130045, -77.45877138, -74.28969763, -73.92296719,\n",
       "       -75.43679403, -76.27081355, -73.8524944 , -73.25864834,\n",
       "       -75.79188186, -77.51806895, -72.08295486, -71.89172868,\n",
       "       -76.62618597, -73.5713145 , -78.65828278, -76.38308668,\n",
       "       -72.9190391 , -72.62797079, -72.74773611, -74.35181631,\n",
       "       -75.67518282, -76.6519175 , -74.92062512, -75.48981029,\n",
       "       -72.24889357, -74.92727578, -73.45745267, -75.95404449,\n",
       "       -73.52063241, -75.71550992, -73.8130833 , -75.67202229,\n",
       "       -73.87889069, -73.66183063, -70.23496026, -72.79826081,\n",
       "       -72.79618707, -76.41706837, -75.55444758, -73.8090988 ,\n",
       "       -73.43331223, -77.79124207, -73.14666944, -78.45254624,\n",
       "       -75.03619498, -73.9009831 , -75.35571644, -75.25485877,\n",
       "       -74.23583581, -72.19538265, -74.14617954, -72.16422491,\n",
       "       -73.12857022, -67.4855961 , -73.69847756, -72.63646037,\n",
       "       -74.88933547, -74.40463683, -70.001625  , -75.3455276 ,\n",
       "       -71.76786074, -72.94026073, -75.99755359, -72.98238636,\n",
       "       -67.91828368, -73.05430826, -74.53066921, -76.65311896,\n",
       "       -76.52507914, -72.58875564, -77.47731382, -73.97012389,\n",
       "       -75.01663674, -74.47771953, -76.23473215, -75.62673823,\n",
       "       -73.81871071, -75.75903864, -76.49783667, -73.58700594,\n",
       "       -71.42763959, -75.69902876, -77.40739376, -74.43595266,\n",
       "       -72.55258534, -76.10317217, -74.91160229, -73.36476697,\n",
       "       -74.62696619, -75.7025141 , -73.60650915, -72.80903168,\n",
       "       -76.4266804 , -74.18839705, -73.86531035, -74.45428812,\n",
       "       -73.17269131, -71.87394948, -77.39429906, -74.49219527,\n",
       "       -76.9667572 , -75.22079414, -76.29893404, -73.54931534,\n",
       "       -75.58319073, -76.27049302, -75.31569465, -72.41206013,\n",
       "       -75.09059602, -73.68322053, -76.4367047 , -76.67786969,\n",
       "       -75.41554691, -77.67729446, -75.83221732, -75.40884972,\n",
       "       -76.53880955, -74.38963124, -73.76560234, -73.48748644,\n",
       "       -73.45706654, -72.7625018 , -75.22880769, -76.57038564,\n",
       "       -73.23743145, -72.74752523, -72.57759412, -75.26813259,\n",
       "       -73.85010212, -73.22141743, -75.38245402, -70.35648014,\n",
       "       -73.79416288, -75.78462771, -77.63960362, -72.44541276,\n",
       "       -72.60245029, -72.91227125, -74.03825452, -73.24518859,\n",
       "       -75.33807844, -73.7709122 , -75.32566862, -74.26192318,\n",
       "       -73.88759181, -77.51461157, -74.77195969, -73.33546555,\n",
       "       -77.73165563, -74.58929748, -76.31173408, -72.798834  ,\n",
       "       -73.75252332, -75.6344938 , -73.24158942, -76.55477631,\n",
       "       -77.60073212, -75.63561411, -77.43983629, -72.47051925,\n",
       "       -76.06231663, -75.37625576, -76.1971756 , -74.35074946,\n",
       "       -73.86293527, -74.91069263, -75.12113883, -73.68689612,\n",
       "       -77.99399223, -74.53345106, -73.76291743, -77.52139514,\n",
       "       -71.76462754, -74.88416934, -74.56148735, -72.92901928,\n",
       "       -73.71144523, -73.94099903, -72.60393412, -74.02520707,\n",
       "       -72.6833174 , -72.73591937, -73.7958098 , -73.57410803,\n",
       "       -74.46734836, -74.60341455, -74.88313523, -77.09734632,\n",
       "       -72.73899492, -72.9996465 , -75.97192356, -73.85300839,\n",
       "       -75.91151329, -74.80471043, -74.18131018, -72.50603675,\n",
       "       -73.2196734 , -72.73338212, -76.4084846 , -72.78237255,\n",
       "       -74.39407654, -75.30320145, -72.64728173, -73.79836105,\n",
       "       -73.12686435, -72.4411883 , -75.43614703, -73.26113096,\n",
       "       -73.97539003, -73.81368337, -77.01628783, -73.14486261,\n",
       "       -75.62972195, -77.12074197, -75.15350199, -75.40167492,\n",
       "       -74.304976  , -72.84480753, -73.23813909, -74.44273951,\n",
       "       -75.64378388, -75.71422154, -74.66954561, -75.65618321,\n",
       "       -73.96495194, -75.64909422, -74.52295638, -75.49077731,\n",
       "       -81.37090914, -72.63843801, -73.44031622, -73.48185246,\n",
       "       -74.65271812, -74.18076735, -77.44937399, -74.37940373,\n",
       "       -73.03917574, -72.91125457, -73.44501063, -73.05200057,\n",
       "       -74.46378065, -73.28698543, -78.1382612 , -72.70787178,\n",
       "       -77.49656757, -69.9495845 , -76.40803219, -73.30775368,\n",
       "       -74.00464881, -73.47228448, -73.78646619, -77.58000042,\n",
       "       -70.0353954 , -74.88422578, -74.04503529, -74.47289332,\n",
       "       -75.64518707, -75.29202341, -77.05251983, -73.79673518,\n",
       "       -76.60451782, -74.79234219, -76.57382342, -72.9477205 ,\n",
       "       -73.20859521, -73.564085  , -73.16831269, -74.10300099,\n",
       "       -73.94636611, -77.02133468, -72.9796484 , -77.4037731 ,\n",
       "       -74.74176149, -73.45204672, -74.33115437, -77.39075115,\n",
       "       -74.04459817, -74.56791185, -76.24104111, -77.72622517,\n",
       "       -77.04708963, -73.72199248, -73.42165115, -73.44692936,\n",
       "       -76.84534328, -74.63590251, -75.53032731, -76.06396657,\n",
       "       -76.87589203, -75.17031866, -73.63648643, -76.37277842,\n",
       "       -73.93929548, -74.78366995, -75.62407439, -76.34773585,\n",
       "       -76.1328691 , -71.99239281, -77.01272834, -75.78865559,\n",
       "       -77.28100878, -77.12838567, -75.32674565, -76.22967043,\n",
       "       -78.10832813, -76.61417097, -77.57424777, -76.6425464 ,\n",
       "       -75.50869946, -70.20356756, -76.49761167, -73.76631061,\n",
       "       -74.48673446, -75.8919936 , -74.84757202, -72.84887988,\n",
       "       -76.15103159, -75.83653439, -75.05429067, -73.60418204,\n",
       "       -72.80621022, -76.48534589, -73.48597146, -77.09322948,\n",
       "       -74.35067139, -76.65112463, -72.1060298 , -73.4467754 ,\n",
       "       -74.39091128, -75.58811834, -74.29374063, -74.57505414,\n",
       "       -76.81140062, -73.16887227, -71.9658729 , -78.18979829,\n",
       "       -74.06659233, -72.57199201, -74.02321518, -71.73122989,\n",
       "       -74.22506165, -76.16466637, -72.70256633, -74.59271446,\n",
       "       -72.50060021, -73.66297365, -73.34262729, -75.61535088,\n",
       "       -75.1217448 , -74.49973383, -73.300034  , -73.35052791,\n",
       "       -77.00251141, -74.45254632, -73.96137025, -74.42579943,\n",
       "       -71.66267865, -75.19620778, -74.69466011, -73.0288341 ,\n",
       "       -74.81055536, -73.4885657 , -74.02440235, -74.62050876,\n",
       "       -70.86371082, -75.63504192, -73.92455783, -77.16067409,\n",
       "       -73.83333745, -73.93417373, -76.97118237, -72.50029315,\n",
       "       -74.92662666, -75.80489734, -74.93256629, -75.2411436 ,\n",
       "       -77.40299135, -75.43955579, -73.97858158, -73.31952118,\n",
       "       -77.88546675, -75.97366185, -74.6216559 , -77.46571841,\n",
       "       -76.26886954, -75.36910243, -75.11778988, -72.83335056,\n",
       "       -73.610785  , -73.3681498 , -71.18591266, -74.52799842,\n",
       "       -75.37917964, -75.93234858, -73.22268198, -76.72643183,\n",
       "       -72.47355805, -73.09929847, -72.49632211, -73.07660264,\n",
       "       -75.19851434, -74.46420086, -73.47438999, -75.41959841,\n",
       "       -75.60638497, -77.52108754, -77.16872936, -73.36395846,\n",
       "       -71.14653188, -75.11979107, -75.72744344, -76.48470182,\n",
       "       -74.60059869, -73.33719493, -76.15771521, -75.77104991,\n",
       "       -73.74645431, -73.62056371, -73.52080548, -77.52362692,\n",
       "       -75.82306693, -72.85058516, -75.77509768, -73.17202997,\n",
       "       -76.68600154, -72.69429571, -74.19516465, -77.63083384,\n",
       "       -77.50300513, -73.0689588 , -73.38707053, -72.98542816,\n",
       "       -71.33810538, -73.36202683, -75.32603525, -74.95876178,\n",
       "       -77.56618095, -73.77012038, -78.24467611, -76.52739554,\n",
       "       -76.48422337, -74.95215175, -73.33555181, -75.64468414,\n",
       "       -74.43669886, -75.50242268, -76.72722006, -74.75374593,\n",
       "       -74.42452123, -75.1592945 , -75.14667204, -77.21523153,\n",
       "       -75.03136903, -69.79854267, -75.28283737, -74.82674664,\n",
       "       -76.2629741 , -76.21454183, -76.07840778, -75.29038527,\n",
       "       -76.13491612, -72.70013858, -72.69162654, -75.11558955,\n",
       "       -75.9646785 , -73.41001828, -73.18451746, -73.54344909,\n",
       "       -73.49011865, -74.89743371, -74.91810775, -75.61998096,\n",
       "       -75.02226364, -75.33381905, -75.42163789, -75.44008804,\n",
       "       -74.40463631, -77.3066651 , -74.92938381, -75.33479604,\n",
       "       -75.46007968, -75.21237225, -75.26139361, -75.87925102,\n",
       "       -75.56091172, -75.70176247, -75.31030244, -75.39409516,\n",
       "       -75.57231946, -75.08623906, -75.50201058, -76.13224047,\n",
       "       -75.16774882, -76.52888979, -76.01332281, -75.82723238,\n",
       "       -75.51715485, -76.17041054, -74.58513216, -76.14196657,\n",
       "       -75.78399658, -75.48717096, -75.09328383, -75.04933649,\n",
       "       -75.97543596, -75.18797267, -76.63105305, -75.33526901,\n",
       "       -75.33494799, -76.38256213, -75.73478599, -75.15803936,\n",
       "       -75.18561261, -75.64946621, -75.67116614, -75.14309741,\n",
       "       -74.9930024 , -75.62210934, -75.70833078, -75.399711  ,\n",
       "       -78.32877504, -75.28359994, -75.50817755, -76.68156472,\n",
       "       -75.36057471, -75.35298017, -75.02824952, -75.07314758,\n",
       "       -75.81416599, -74.63402357, -75.68408219, -75.22175555,\n",
       "       -73.95489394, -75.13919443, -75.64533157, -75.25832533,\n",
       "       -74.84117476, -72.96844791, -75.76416656, -74.6904628 ,\n",
       "       -74.7592025 , -76.24075326, -75.42892042, -75.72320456,\n",
       "       -74.99439223, -75.98419075, -76.1312234 , -75.76296669,\n",
       "       -73.51273659, -75.93115733, -72.66480971, -75.51829617,\n",
       "       -74.77633959, -75.29533344, -76.06315827, -72.96825727,\n",
       "       -77.3596647 , -75.77063146, -75.28621326, -74.69906246,\n",
       "       -76.07174817, -76.03020474, -73.27085551, -75.78656046,\n",
       "       -75.79470812, -76.62558491, -75.23971741, -75.73093679,\n",
       "       -75.76687773, -75.14701164, -77.36431791, -75.0135288 ,\n",
       "       -75.7345341 , -75.54734816, -75.8038073 , -74.99238026,\n",
       "       -72.75882534, -76.63618197, -75.15562697, -75.45572657,\n",
       "       -75.1483999 , -72.62641153, -75.90493749, -73.81185017,\n",
       "       -77.62223921, -75.79465715, -75.74593737, -75.98176937,\n",
       "       -75.66821486, -77.28072792, -75.72781783, -76.47233806,\n",
       "       -76.61139204, -75.43971192, -74.76648875, -76.4551928 ,\n",
       "       -74.34747461, -72.85047149, -76.78150374, -76.78762125,\n",
       "       -76.33350631, -75.90828191, -75.62738181, -75.10185297,\n",
       "       -75.85371333, -75.90867121, -73.17029158, -75.31039861,\n",
       "       -75.94977228, -74.24136807, -75.25652706, -76.39817055,\n",
       "       -75.52375393, -74.00298681, -78.18430368, -74.9728891 ,\n",
       "       -75.93810642, -75.84057784, -75.06375581, -76.04621413,\n",
       "       -75.76220197, -75.46000891, -76.32440743, -75.97473076,\n",
       "       -76.64651743, -75.77566146, -72.97759391, -77.27861806,\n",
       "       -75.73836605, -73.923304  , -76.03621421, -73.5046538 ,\n",
       "       -75.47968769, -74.78784771, -74.86796174, -75.67277312,\n",
       "       -75.70536629, -74.6153957 , -76.35470999, -73.88804193,\n",
       "       -72.28016077, -75.90626411, -72.69472769, -75.3338153 ,\n",
       "       -74.75243905, -74.62789337, -72.47910681, -75.79644836,\n",
       "       -73.60091321, -73.43969122, -75.60621806, -76.85281741,\n",
       "       -76.23566964, -74.55549177, -72.69019233, -75.6247152 ,\n",
       "       -75.73875523, -75.69216654, -76.69553012, -75.55066038,\n",
       "       -75.24299691, -75.57079583, -72.4589392 , -75.51976932,\n",
       "       -75.17822503, -75.99160519, -75.79165099, -75.73852715,\n",
       "       -76.46161371, -75.6211134 , -74.88917962, -75.9566556 ,\n",
       "       -75.75080862, -76.29062712, -75.56228224, -73.21286386,\n",
       "       -77.07275376, -74.04436642, -73.49834578, -76.18496325,\n",
       "       -76.22341725, -72.9444849 , -75.59969042, -75.21814439,\n",
       "       -75.43379586, -74.71495456, -76.89250222, -76.68917476,\n",
       "       -72.72400586, -75.86849579, -76.56816646, -76.03079891,\n",
       "       -73.05066343, -75.87075929, -73.8129614 , -75.87965843,\n",
       "       -76.60706945, -77.59654443, -76.23726603, -75.02334323,\n",
       "       -73.68902156, -75.92035477, -72.76090722, -76.31301759,\n",
       "       -75.60613905, -76.32162446, -76.1995094 , -72.13324949,\n",
       "       -76.69582978, -69.39698615, -76.43848651, -76.76877671,\n",
       "       -74.15280462, -73.32384233, -71.10306943, -73.17245612,\n",
       "       -75.58679897, -73.26325876, -72.55494287, -72.69563516,\n",
       "       -74.33842664, -73.00170139, -74.95550048, -73.67619364,\n",
       "       -75.50753031, -73.37317866, -72.26574628, -73.83767446,\n",
       "       -77.5784311 , -73.62539879, -72.88579942, -75.03214584,\n",
       "       -74.45436143, -73.90989008, -74.72355124, -75.98415335,\n",
       "       -75.1392351 , -73.80111141, -75.24068313, -77.27022384,\n",
       "       -73.07159495, -74.19118192, -75.78851395, -73.1807288 ,\n",
       "       -73.54136427, -77.21654121, -73.6471491 , -72.64650112,\n",
       "       -73.36980037, -73.30723669, -73.04054395, -73.39710765,\n",
       "       -73.12204644, -72.95592832, -73.91418036, -74.79325176,\n",
       "       -70.41308692, -75.87865221, -73.71345503, -75.45262844,\n",
       "       -72.80020513, -76.12196071, -77.98139371, -76.92550779,\n",
       "       -74.18585902, -72.96612865, -73.54252586, -73.2966647 ,\n",
       "       -72.88388343, -75.4771786 , -73.24722618, -77.67063598,\n",
       "       -72.9665821 , -77.24907523, -77.11110984, -75.0836663 ,\n",
       "       -72.97046229, -77.33462865, -72.92165828, -73.14357671,\n",
       "       -74.74939644, -74.29016259, -75.19068859, -75.56772868,\n",
       "       -73.87080094, -73.33740933, -73.14904429, -75.81367596,\n",
       "       -75.5526583 , -73.29111848, -75.19404578, -73.44986726,\n",
       "       -72.74708015, -73.29608968, -74.77392082, -73.74253008,\n",
       "       -74.47991574, -72.71206985, -73.28089462, -73.45420008,\n",
       "       -73.3328155 , -73.39745957, -75.82279021, -76.39606231,\n",
       "       -72.47601923, -75.94105997, -73.01337169, -74.14276383,\n",
       "       -74.26478771, -73.28366584, -73.51357192, -73.69991514,\n",
       "       -73.83523623, -73.63728406, -72.42231608, -75.65959814,\n",
       "       -72.80896001, -72.65495951, -76.89634759, -75.87941933,\n",
       "       -76.04133781, -76.54252474, -73.83501096, -72.78949645,\n",
       "       -74.62528899, -76.53850292, -73.81703255, -73.93303506,\n",
       "       -75.72655847, -74.38660022, -73.49643934, -73.44567052,\n",
       "       -73.54047   , -71.93928689, -75.5411704 , -76.26147472,\n",
       "       -74.53641529, -73.48572033, -73.9709636 , -73.94327837,\n",
       "       -76.22943384, -74.48428376, -72.75710046, -73.17350227])"
      ]
     },
     "execution_count": 25,
     "metadata": {},
     "output_type": "execute_result"
    }
   ],
   "source": [
    "matriculados[\"LON_CIU_PROC\"].unique()"
   ]
  },
  {
   "cell_type": "code",
   "execution_count": 26,
   "metadata": {},
   "outputs": [
    {
     "data": {
      "text/plain": [
       "array([  4.62457505,   4.81224201,   4.12295758,   2.93554559,\n",
       "       -89.        ,   0.82903172,   5.81936914,   4.43963073,\n",
       "         5.63623796,   4.86580207,   4.74817719,   4.58639002,\n",
       "         5.2986509 ,   4.96514275,   5.53937064,   5.03063005,\n",
       "         4.71430463,   4.92087291,   0.8822436 ,   3.40638218,\n",
       "         7.90526712,   1.19200058,   1.85414505,   5.72486205,\n",
       "         0.67602048,   7.9631911 ,   5.91903258,   4.91641735,\n",
       "         1.2128086 ,   5.87819149,   4.87941197,   5.53873794,\n",
       "         5.33249118,   3.72576111,   3.70161053,   2.5704781 ,\n",
       "         0.42390514,   5.02348294,   5.7804891 ,   4.80870097,\n",
       "        10.97964939,   4.86754875,   7.0777365 ,   5.51831039,\n",
       "         5.06941561,   1.61582908,   2.38783134,   4.70865654,\n",
       "         1.14084162,  -4.21202317,   6.23077474,   8.66403585,\n",
       "         4.7328452 ,   2.10954162,   4.13388115,   4.14664309,\n",
       "         7.37289896,   4.928374  ,   7.37519415,   2.88665882,\n",
       "         1.75029972,   4.48787134,   5.16741663,   7.12278729,\n",
       "         6.70217752,   1.20308622,   5.11812063,   2.19897949,\n",
       "         0.90838632,  12.58298842,   5.05705056,   4.99105038,\n",
       "         5.30516428,   0.91935844,   1.130869  ,   6.33067803,\n",
       "         5.93031783,   7.07732172,   4.33774814,   4.40366547,\n",
       "         4.87171577,   6.17856815,   4.96211397,   4.9161136 ,\n",
       "         4.02995546,   5.21481263,   5.66912083,   4.20774566,\n",
       "         9.70413367,   5.31618447,   9.79340261,   4.90694244,\n",
       "        10.39881648,   9.24136747,  11.3774    ,   4.74148626,\n",
       "         4.27225989,   1.02995421,   2.38932772,   5.06180883,\n",
       "         6.00758056,   9.2403681 ,  10.44445263,   9.30015763,\n",
       "         8.74991666,   8.99831827,   3.87366355,   3.17565161,\n",
       "         6.45653811,   5.69072808,   1.08663901,   5.44389999,\n",
       "         6.24894081,   8.24666636,   5.42395347,   2.4482396 ,\n",
       "         8.41130406,   6.50676798,   4.53805332,   4.4848956 ,\n",
       "         4.30370549,   3.53293733,   6.37934993,   5.21462672,\n",
       "         8.31012097,   1.62869823,   4.97248326,   4.52901586,\n",
       "         8.94250255,   1.88147215,   7.06154842,  10.46151843,\n",
       "         8.88666155,   0.85366597,   4.31202706,   5.88140262,\n",
       "         7.8827167 ,   6.02638643,   2.03926684,   3.86106676,\n",
       "         5.85943917,   2.3307972 ,   5.01312279,   4.61607412,\n",
       "         4.83463403,   1.14428451,  10.63383341,   5.03916965,\n",
       "         6.09789911,   3.74982801,   5.21775308,   9.35387799,\n",
       "         5.36925188,   4.80888773,   9.25788108,   7.88927921,\n",
       "         5.06759181,   8.68732472,   1.25117079,   8.08058604,\n",
       "        10.95310426,   3.23265929,   6.33378556,   6.219387  ,\n",
       "         4.98580939,   0.90645085,   6.28533512,   2.50835991,\n",
       "         5.15358769,   5.34908579,   9.49094662,   2.77789683,\n",
       "         5.06181224,   5.63712937,   5.15082001,   5.82909665,\n",
       "         6.54927262,   6.18560657,   3.53493519,   6.0411754 ,\n",
       "         5.20016963,   4.38132923,  -2.45941079,  10.25724995,\n",
       "         6.7992559 ,   5.77057114,   2.02415894,   5.8747386 ,\n",
       "         3.87032555,   6.99547484,   4.56299759,   7.75420419,\n",
       "         3.82289989,  11.16271115,   1.28128758,   4.72014401,\n",
       "         3.92679713,   4.08916639,   3.3244045 ,   2.1956528 ,\n",
       "         5.61485106,   2.02297349,   0.50421875,  10.41496879,\n",
       "         7.02931365,   8.79921911,   1.29916723,   4.73092891,\n",
       "         5.16998543,   4.53295824,   4.86105174,   5.08228085,\n",
       "         4.205428  ,   4.33531325,   5.07991549,   6.67384551,\n",
       "         8.85000627,  11.22570314,   5.55446875,   4.63537372,\n",
       "        10.38646779,   6.95387794,   1.09479364,   5.34357122,\n",
       "         1.8375627 ,   3.93505594,   3.90140103,   5.75196805,\n",
       "         6.1666618 ,   2.95370197,   2.5225559 ,   6.46292959,\n",
       "         3.62051387,   5.14485857,   7.24396317,   2.34972061,\n",
       "        10.33579029,   1.22164529,   8.95261526,   7.98570061,\n",
       "         3.26418634,   4.65526729,   3.99101403,   4.26706185,\n",
       "         5.35506696,  11.06728208,   9.52598596,   2.62303109,\n",
       "        10.04036455,   5.98807091,   5.56235834,   9.38017706,\n",
       "         5.50477875,   8.08120418,   3.59116487,  -3.7899163 ,\n",
       "         3.56471903,   5.79245558,   0.87099105,   6.41037803,\n",
       "         7.60256297,  11.52912543,   8.93716481,   5.511019  ,\n",
       "         6.17354814,   5.98686979,  10.56763233,   4.85239455,\n",
       "         5.19568351,   1.26245062,   2.11341774,   5.40117777,\n",
       "         0.9603685 ,   4.52796012,   3.68475028,   7.64269066,\n",
       "         3.12759895,   6.09157785,   3.71053448,   5.26542599,\n",
       "         1.33227291,   4.61512679,   1.45363407,   7.8490466 ,\n",
       "         8.17224655,   6.14622006,   4.08535846,   4.51964069,\n",
       "         4.32984569,   5.31706445,   9.71803422,   5.38359009,\n",
       "         1.2112277 ,   4.74473436,   5.69689929,   0.96849586,\n",
       "         6.15639181,   5.02900046,   4.87524411,   4.60982096,\n",
       "         5.3060265 ,   5.51174853,   7.9370731 ,   4.40260376,\n",
       "         6.33365419,   8.6397177 ,   5.40400391,   5.87376487,\n",
       "         4.87794137,   5.07248999,  10.90429605,   1.42729321,\n",
       "         6.500272  ,   5.74715414,   2.64531147,   5.24736896,\n",
       "         4.73852192,   7.59295465,   5.6579927 ,   7.83349267,\n",
       "         7.11332219,   6.65866422,   3.03315836,   5.90898896,\n",
       "         5.19887438,   9.98513344,   7.61206781,   5.10343693,\n",
       "         5.22715204,  11.76999449,   1.48833022,   6.46369097,\n",
       "         9.49533435,   5.45327943,   1.5956443 ,   5.1959458 ,\n",
       "         6.1681583 ,   1.55208494,   5.25410161,   9.10415277,\n",
       "         4.31027284,   5.82808298,   8.21359383,   4.57826467,\n",
       "         3.19702138,   5.66517676,   4.37585313,   4.67600719,\n",
       "         5.85928067,   4.51619929,   4.44050177,   5.27130438,\n",
       "        13.37012422,   7.43585398,   6.09835314,   6.05756993,\n",
       "         5.46497924,   4.31463769,   1.00112078,   4.76009498,\n",
       "         4.85336044,   5.98833687,   5.09555867,   5.10066041,\n",
       "         4.76166117,   8.43723373,   1.67357165,   6.13152095,\n",
       "         1.05519829,   0.97279051,   0.96389688,   5.59440918,\n",
       "         5.54929277,   5.00708725,   2.18362947,   1.47292219,\n",
       "        -1.43237344,   4.15071173,   5.47539238,   5.00942833,\n",
       "         6.15839094,   9.32068414,   2.06950348,   5.04519534,\n",
       "         0.68506418,  10.90563208,   1.7030252 ,   5.95597675,\n",
       "         5.35703604,   4.260981  ,   7.07177401,   5.53127931,\n",
       "         7.95522014,   1.6451203 ,   5.61235845,   6.22447038,\n",
       "         5.20098204,   5.02324263,   4.9905427 ,   1.40798383,\n",
       "         4.44253071,   9.30540281,   3.41943777,   0.8632045 ,\n",
       "         1.51443105,   5.51772943,   5.07683157,   6.02747549,\n",
       "         0.273017  ,   4.46092252,   9.73339188,   2.54873812,\n",
       "         1.17674026,   4.87540969,   4.81632976,   2.61512302,\n",
       "         4.33873601,  -0.18497317,   4.8765086 ,   3.40934946,\n",
       "         1.72319912,   5.7267662 ,   1.66915804,   2.06340891,\n",
       "         1.35733302,   1.59247718,   1.57049114,   3.25189407,\n",
       "         2.47587728,   2.2532172 ,   0.8053162 ,   3.01602441,\n",
       "         9.14488625,   6.3033937 ,   3.54053355,   5.25059033,\n",
       "         4.19123153,   1.80432743,   1.33401941,   5.72336164,\n",
       "         4.41354839,   4.34062228,   3.15327369,   5.71227372,\n",
       "         5.80283711,   3.01128797,   5.4926274 ,   8.04363272,\n",
       "         3.23832707,   5.69234947,   7.00373327,   8.51075882,\n",
       "         5.35896523,   9.50881496,   9.15914024,   5.97331379,\n",
       "         2.45242885,   4.81870508,   1.21261151,   2.39792155,\n",
       "         5.65901776,   6.14610491,   5.33324877,   5.42183958,\n",
       "         9.14490773,   4.17671562,   5.29380067,   4.9477306 ,\n",
       "         6.45971197,   4.79029733,   5.94583041,   6.15089232,\n",
       "         9.83065775,   9.24400707,   6.26704785,   4.50865388,\n",
       "         1.14657009,   4.34801044,  10.14913211,   9.24102197,\n",
       "         5.41101622,   3.79872369,   4.56243785,  10.39074832,\n",
       "         4.28279453,   5.32384575,   3.52569114,   4.30686374,\n",
       "         5.13110359,   2.65000135,   7.47747544,   1.37209588,\n",
       "         4.93396486,   4.48378897,   1.60014417,   6.55349164,\n",
       "         3.86033814,   2.26725491,   3.39179996,   3.22356324,\n",
       "         1.11562696,   9.45318799,   5.65653655,   4.97221733,\n",
       "         2.57198998,   1.33172584,   4.84725315,   1.20719433,\n",
       "         3.72490001,  10.44547272,   5.03029545,   5.76927432,\n",
       "         4.76258312,   5.57754427,  -0.68536354,   4.17413014,\n",
       "         9.18243933,   1.9743001 ,   6.63534926,   8.09409674,\n",
       "         6.18742408,   6.13821536,   6.48261314,   5.22420662,\n",
       "         7.97776037,   8.91622811,   6.29046114,   6.9655797 ,\n",
       "         4.985518  ,   1.49420522,   1.80307505,   5.38487936,\n",
       "        -1.90678993,   5.07914791,   2.4859112 ,   2.79750888,\n",
       "         3.93692155,   8.46999502,   4.20815304,   2.26001844,\n",
       "         9.66187836,   5.62014391,   4.69319201,   1.35127831,\n",
       "         5.60096504,   6.81027206,   2.44961436,   5.28434656,\n",
       "         5.153351  ,   6.76894002,   5.27318304,   1.13530689,\n",
       "         0.88341484,   6.60459799,   8.29205396,   5.5608799 ,\n",
       "         4.79003392,   5.45455383,   2.68418035,  10.98552552,\n",
       "         1.05883406,   3.8797436 ,   1.69698692,   2.63758943,\n",
       "         3.93522395,   4.56816462,   9.56286706,   3.53021378,\n",
       "         4.87608227,   6.35822753,   5.33538667,  10.74060208,\n",
       "         4.18027586,   5.38371852,   9.24448244,   1.50282727,\n",
       "         8.92992441,   4.44448762,   1.67906351,   4.39920338,\n",
       "         7.00003403,   1.93035578,   4.60848895,  10.60326688,\n",
       "         9.24470996,   6.66972348,   5.99685875,   4.19748503,\n",
       "         5.07367696,   6.87981334,   5.56541864,   6.01961049,\n",
       "         4.96682009,   3.53844375,  10.7899332 ,   0.87265002,\n",
       "         6.48481185,   6.43798866,   6.03259037,   6.2789789 ,\n",
       "         6.49006654,   1.93449674,   4.71677807,   6.27940487,\n",
       "         6.6451725 ,   6.22168318,   6.13596028,   5.6568847 ,\n",
       "         6.46043452,   6.03583351,   5.71278805,   6.48588535,\n",
       "         5.88063912,   6.5388752 ,   6.06324258,   6.31400118,\n",
       "         6.47478462,   8.75949061,   5.846517  ,   6.55826899,\n",
       "         6.56665005,   6.89359302,   6.1820469 ,   5.90066567,\n",
       "         5.23807383,   5.40260149,   4.6328467 ,   9.15980328,\n",
       "         5.96116242,   6.14137433,   5.28067211,   6.08497157,\n",
       "         6.88536619,   8.27806431,   6.20603288,   1.91091862,\n",
       "         6.0578888 ,   5.44609993,   5.92484004,   6.3744738 ,\n",
       "         6.18797641,   8.8781766 ,   6.11188034,   7.58161135,\n",
       "         2.34754711,   6.72599435,   8.50265564,   7.66615645,\n",
       "         5.97435177,   7.57506519,   6.29394974,   6.90887429,\n",
       "         6.85353316,   5.8882084 ,   6.84974121,   6.68411945,\n",
       "         6.31369089,   5.73036775,   5.54909479,   5.28351076,\n",
       "         6.66825258,   7.28125241,   7.17162301,   7.02879359,\n",
       "         6.40250923,   8.78760092,   5.78953996,   9.23854884,\n",
       "         6.04286525,   6.10909981,   6.77558501,   4.62330251,\n",
       "         8.00348637,   4.26719135,   7.13853761,   2.66479669,\n",
       "         8.08874643,   6.97898982,   6.63395603,   7.19952579,\n",
       "         1.2896456 ,   5.15940031,   8.8511274 ,   7.08108248,\n",
       "         4.39042847,   6.75976725,   6.81384407,   6.15581919,\n",
       "         6.06294586,   2.74930603,   6.81504822,   5.34114674,\n",
       "         6.32725971,   8.31113196,   4.95394903,   6.59468858,\n",
       "         5.96308593,   5.39480456,   4.99517768,   5.41307433,\n",
       "        -1.24236415,   5.53113252,   6.23233737,   5.61260368,\n",
       "         7.07800833,   6.6267343 ,   5.7988795 ,   8.8623923 ,\n",
       "         1.03717523,   1.97693441,   6.5031322 ,   5.74921426,\n",
       "         6.60617594,   1.57012764,   6.44306379,   5.18546672,\n",
       "         5.37225047,   7.16313768,  10.83461272,   2.38112662,\n",
       "         9.24098425,  10.8866438 ,   2.00463839,   8.42602528,\n",
       "         3.76199549,   6.04714827,   9.14934447,   5.96417239,\n",
       "         6.30223047,   7.02209987,   6.41653498,   9.32892494,\n",
       "         6.67830123,  11.00743281,   6.39397608,   2.51119763,\n",
       "         5.94656366,   4.25493902,   1.76612353,   9.32003656,\n",
       "         2.0133962 ,   5.79341609,   9.3960838 ,   1.99259539,\n",
       "         9.37093255,   5.5286869 ,   2.77802101,   4.57493086,\n",
       "         5.09350794,   4.6739419 ,  10.61018498,   8.5109499 ,\n",
       "         4.3575252 ,   5.69016431,   4.52444084,   5.05244592,\n",
       "         8.22219356,   6.55311609,   7.48814967,   6.92360964,\n",
       "         1.19761525,  10.46134401,   8.89510878,   9.97437199,\n",
       "         4.81684481,   6.71988422,   6.84311762,   8.04435931,\n",
       "        10.75806294,   8.54298963,   7.29935087,   5.31491485,\n",
       "         9.36137942,   5.75661447,   5.73913585,   1.91525378,\n",
       "         4.89467124,   8.56785243,   6.41502583,   5.61469852,\n",
       "         4.70286143,   7.01034192,   5.09660897,   7.11279054,\n",
       "         9.27457243,   4.63727979,   6.44256891,   5.16641594,\n",
       "         5.07994522,   4.79322315,   5.08264286,   4.93666532,\n",
       "         3.17492271,   5.01911634,   5.57527637,   4.94931342,\n",
       "         4.56297036,   4.1574581 ,   5.29735028,   4.37502629,\n",
       "         1.6830354 ,   3.38224586,   7.39517158,   4.33813738,\n",
       "         4.75849388,   7.34787833,   5.47433367,   3.21924055,\n",
       "         4.43777027,   4.68153163,   6.56638862,   3.6573935 ,\n",
       "        -2.00862306,   5.2008191 ,   3.64718929,   5.22209119,\n",
       "         5.55868753,   5.06286442,   6.05670534,   4.8983438 ,\n",
       "         4.95609453,   1.23799135,   4.50991499,   5.12048014,\n",
       "         3.82798262,   1.0336553 ,   5.22914828,   3.22299732,\n",
       "         4.01122752,   4.20933453,   4.57582062,   2.89200026,\n",
       "         2.95488169,   3.31125138,   3.69710443,   1.83850067,\n",
       "         5.37082032,   5.63433422,   6.27986339,   6.53303595,\n",
       "         2.9387122 ,   4.85760064,   6.40183421,   6.53056932,\n",
       "         5.45953993,  10.77073498,   5.11932413,   4.45795608,\n",
       "         1.29064424,   3.26940842,  11.71520214,   8.58918473,\n",
       "         1.64767179,   8.95604299,  10.89577472,  10.82990078,\n",
       "         9.33068376,   7.00260353,   8.24948232,   6.40578759,\n",
       "         3.06742823,   8.61801513,   4.23948331,   5.70573912,\n",
       "        10.51075068,  10.51385004,   4.45288108,  10.33369278,\n",
       "         9.20033978,   2.04139356,   5.57901933,   6.57664345,\n",
       "         4.88876763,  11.27125412,   6.29555598,   5.14022874,\n",
       "         6.34033572,   4.09347368,   5.75871447,   6.7671622 ,\n",
       "         5.49073734,   1.32903377,   4.35217016,   2.58346785,\n",
       "         5.75283043,   4.72685117,   2.45112402,   2.03811061,\n",
       "        10.59067243,   5.58026411,   5.58303012,   5.43670756,\n",
       "         5.83037889,   3.91585543,   5.76516635,   2.78035662,\n",
       "         4.56906867,   2.25554957,   7.43338275,   9.95138128,\n",
       "         6.47538727,   1.74490322,  10.65106316,   6.44800947,\n",
       "        10.64191783,   5.24908341,  10.2331675 ,   2.74125546,\n",
       "         3.36910743,   6.44347224,   7.26321364,   6.67635869,\n",
       "         9.18691769,   6.5379354 ,   9.10715241,   5.56685654,\n",
       "         7.30024008,   5.40952113,   4.2840903 ,   8.32160639,\n",
       "         5.11823403,   6.0932344 ,   5.56040153,   5.54301842,\n",
       "         5.50108432,   7.75620518,   5.86544858,   3.13363642,\n",
       "         7.57746228,   5.10611882,  10.55998334,  10.76273948,\n",
       "         8.55646721,   6.90006889,   5.93754577,   5.95507659,\n",
       "         3.73881074,   6.06258983,   5.62639521,   9.40979035,\n",
       "         5.91081053,   1.95858584,   6.58879411,   5.29466571,\n",
       "         4.90988047,   5.49996186,   3.79490489,   4.28826159,\n",
       "        10.02913808,   2.67416535,   4.21706946,   5.73040798,\n",
       "         1.48803903,   5.1259217 ,   6.24606725,   5.64271705,\n",
       "         5.00919863,  -1.0986759 ,   9.33314406,   9.0021912 ,\n",
       "         8.46904787,   5.60440242,   5.80494925,   8.45914384,\n",
       "         3.99415724,   3.98482848,   2.62379154,   6.66929215])"
      ]
     },
     "execution_count": 26,
     "metadata": {},
     "output_type": "execute_result"
    }
   ],
   "source": [
    "matriculados[\"LAT_CIU_PROC\"].unique()"
   ]
  },
  {
   "cell_type": "markdown",
   "metadata": {},
   "source": [
    "+ ***NACIONALIDAD***"
   ]
  },
  {
   "cell_type": "code",
   "execution_count": 7,
   "metadata": {},
   "outputs": [
    {
     "name": "stdout",
     "output_type": "stream",
     "text": [
      "50\n"
     ]
    },
    {
     "data": {
      "text/plain": [
       "array(['COL', 'BRA', 'Sin información', 'ECU', 'VEN', 'FRA', 'PER', 'PRK',\n",
       "       'NLD', 'CUB', 'ESP', 'CHE', 'DEU', 'ARG', 'PAN', 'MEX', 'CMR',\n",
       "       'PRY', 'USA', 'JPN', 'BOL', 'SYR', 'TUR', 'CRI', 'COD', 'NOR',\n",
       "       'PRI', 'CAN', 'ITA', 'DOM', 'CHN', 'IRN', 'CHL', 'SWE', 'SLV',\n",
       "       'GTM', 'RUS', 'KOR', 'ISR', 'GBR', 'HND', 'UKR', 'ABW', 'KEN',\n",
       "       'IND', 'ANT', 'TUN', 'NZL', 'NIC', 'POL'], dtype=object)"
      ]
     },
     "execution_count": 7,
     "metadata": {},
     "output_type": "execute_result"
    }
   ],
   "source": [
    "print(len(matriculados[\"CODN_NAC\"].unique()))\n",
    "matriculados[\"CODS_NAC\"].unique()"
   ]
  },
  {
   "cell_type": "code",
   "execution_count": 8,
   "metadata": {},
   "outputs": [
    {
     "name": "stdout",
     "output_type": "stream",
     "text": [
      "50\n"
     ]
    },
    {
     "data": {
      "text/plain": [
       "array([170,  76, -89, 218, 862, 250, 604, 408, 528, 192, 724, 756, 276,\n",
       "        32, 591, 484, 120, 600, 840, 392,  68, 760, 792, 188, 180, 578,\n",
       "       630, 124, 380, 214, 156, 364, 152, 752, 222, 320, 643, 410, 376,\n",
       "       826, 340, 804, 533, 404, 356, 530, 788, 554, 558, 616])"
      ]
     },
     "execution_count": 8,
     "metadata": {},
     "output_type": "execute_result"
    }
   ],
   "source": [
    "print(len(matriculados[\"CODN_NAC\"].unique()))\n",
    "matriculados[\"CODN_NAC\"].unique()"
   ]
  },
  {
   "cell_type": "code",
   "execution_count": 22,
   "metadata": {},
   "outputs": [
    {
     "data": {
      "text/plain": [
       "array(['Colombiana', 'Extranjero', 'Sin información'], dtype=object)"
      ]
     },
     "execution_count": 22,
     "metadata": {},
     "output_type": "execute_result"
    }
   ],
   "source": [
    "matriculados[\"NACIONALIDAD\"].unique()"
   ]
  },
  {
   "cell_type": "markdown",
   "metadata": {},
   "source": [
    "Se puede Reducir a  CODS_NAC o CODS_NAC"
   ]
  },
  {
   "cell_type": "markdown",
   "metadata": {},
   "source": [
    "+ ***SEDE ADMISION***  "
   ]
  },
  {
   "cell_type": "code",
   "execution_count": 28,
   "metadata": {},
   "outputs": [
    {
     "data": {
      "text/plain": [
       "array([1101, 1125, 1124, 1126, 9920, 1102, 1103, 1104, 9933])"
      ]
     },
     "execution_count": 28,
     "metadata": {},
     "output_type": "execute_result"
    }
   ],
   "source": [
    "matriculados[\"SNIES_SEDE_ADM\"].unique()"
   ]
  },
  {
   "cell_type": "code",
   "execution_count": 27,
   "metadata": {},
   "outputs": [
    {
     "data": {
      "text/plain": [
       "array(['Bogotá', 'Amazonía', 'Orinoquía', 'Caribe', 'Tumaco', 'Medellín',\n",
       "       'Manizales', 'Palmira', 'De La Paz'], dtype=object)"
      ]
     },
     "execution_count": 27,
     "metadata": {},
     "output_type": "execute_result"
    }
   ],
   "source": [
    "matriculados[\"SEDE_NOMBRE_ADM\"].unique()"
   ]
  },
  {
   "cell_type": "markdown",
   "metadata": {},
   "source": [
    "+ ***SEDE MATRICULADO***  "
   ]
  },
  {
   "cell_type": "code",
   "execution_count": 29,
   "metadata": {},
   "outputs": [
    {
     "data": {
      "text/plain": [
       "array([1101, 1124, 1126, 9920, 1125, 1102, 1103, 1104, 9933])"
      ]
     },
     "execution_count": 29,
     "metadata": {},
     "output_type": "execute_result"
    }
   ],
   "source": [
    "matriculados[\"SNIES_SEDE_MAT\"].unique()"
   ]
  },
  {
   "cell_type": "code",
   "execution_count": 30,
   "metadata": {},
   "outputs": [
    {
     "data": {
      "text/plain": [
       "array(['Bogotá', 'Orinoquía', 'Caribe', 'Tumaco', 'Amazonía', 'Medellín',\n",
       "       'Manizales', 'Palmira', 'De La Paz'], dtype=object)"
      ]
     },
     "execution_count": 30,
     "metadata": {},
     "output_type": "execute_result"
    }
   ],
   "source": [
    "matriculados[\"SEDE_NOMBRE_MAT\"].unique()"
   ]
  },
  {
   "cell_type": "markdown",
   "metadata": {},
   "source": [
    "+ ***TIPO DE ADMISION*** Aqui pertenecen *MOD_ADM* y *TIPO_ADM* , pues si se conoce el tipo de admision (REgular,PAES,Peama,PEAA) se conoce si el modo de admision fuue regular o Especial. "
   ]
  },
  {
   "cell_type": "code",
   "execution_count": 34,
   "metadata": {},
   "outputs": [
    {
     "data": {
      "text/plain": [
       "array(['Regular', 'Especial'], dtype=object)"
      ]
     },
     "execution_count": 34,
     "metadata": {},
     "output_type": "execute_result"
    }
   ],
   "source": [
    "matriculados[\"MOD_ADM\"].unique()"
   ]
  },
  {
   "cell_type": "code",
   "execution_count": 35,
   "metadata": {},
   "outputs": [
    {
     "data": {
      "text/plain": [
       "array(['Regular', 'PAES', 'PEAMA'], dtype=object)"
      ]
     },
     "execution_count": 35,
     "metadata": {},
     "output_type": "execute_result"
    }
   ],
   "source": [
    "matriculados[\"TIPO_ADM\"].unique()"
   ]
  },
  {
   "cell_type": "code",
   "execution_count": 37,
   "metadata": {},
   "outputs": [
    {
     "data": {
      "text/plain": [
       "array(['No aplica', 'Comunidades indígenas', 'Mejores bachilleres',\n",
       "       'Población afrocolombiana',\n",
       "       'Mejores bachilleres de municipios pobres',\n",
       "       'Victimas del conflicto armado interno en Colombia', 'De La Paz'],\n",
       "      dtype=object)"
      ]
     },
     "execution_count": 37,
     "metadata": {},
     "output_type": "execute_result"
    }
   ],
   "source": [
    "matriculados[\"PAES\"].unique()"
   ]
  },
  {
   "cell_type": "code",
   "execution_count": 36,
   "metadata": {},
   "outputs": [
    {
     "data": {
      "text/plain": [
       "array(['No aplica', 'PEAMA - Amazonía', 'PEAMA - Orinoquía',\n",
       "       'PEAMA - Caribe', 'PEAMA - Tumaco',\n",
       "       'PEAMA - Sede Bogotá - Sumapaz', 'PEAMA - Medellín - Sinifaná',\n",
       "       'PEAMA - Sede Manizales - Caldas'], dtype=object)"
      ]
     },
     "execution_count": 36,
     "metadata": {},
     "output_type": "execute_result"
    }
   ],
   "source": [
    "matriculados[\"PEAMA\"].unique()"
   ]
  },
  {
   "cell_type": "code",
   "execution_count": 38,
   "metadata": {},
   "outputs": [
    {
     "data": {
      "text/plain": [
       "array(['No aplica', 'Etapa de movilidad', 'Etapa Inicial'], dtype=object)"
      ]
     },
     "execution_count": 38,
     "metadata": {},
     "output_type": "execute_result"
    }
   ],
   "source": [
    "matriculados[\"MOV_PEAMA\"].unique()"
   ]
  },
  {
   "cell_type": "code",
   "execution_count": 32,
   "metadata": {},
   "outputs": [
    {
     "data": {
      "text/plain": [
       "array(['No aplica', 'No', 'Sí'], dtype=object)"
      ]
     },
     "execution_count": 32,
     "metadata": {},
     "output_type": "execute_result"
    }
   ],
   "source": [
    "matriculados[\"CONVENIO\"].unique()"
   ]
  },
  {
   "cell_type": "code",
   "execution_count": 33,
   "metadata": {},
   "outputs": [
    {
     "data": {
      "text/plain": [
       "array(['No aplica', 'Externo', 'Interno'], dtype=object)"
      ]
     },
     "execution_count": 33,
     "metadata": {},
     "output_type": "execute_result"
    }
   ],
   "source": [
    "matriculados[\"TIP_CONVENIO\"].unique()"
   ]
  },
  {
   "cell_type": "code",
   "execution_count": 39,
   "metadata": {},
   "outputs": [
    {
     "data": {
      "text/plain": [
       "array(['Ingeniería', 'Derecho, ciencias políticas y sociales',\n",
       "       'Ciencias económicas', 'Ciencias',\n",
       "       'Medicina veterinaria y de zootecnia', 'Artes', 'Ciencias humanas',\n",
       "       'Medicina', 'Odontología', 'Ciencias agrarias', 'Enfermería',\n",
       "       'Arquitectura', 'Minas', 'Ciencias humanas y económicas',\n",
       "       'Ingeniería y arquitectura', 'Administración',\n",
       "       'Ciencias exactas y naturales', 'Ciencias agropecuarias',\n",
       "       'Ingeniería y administración', 'Amazonía', 'Caribe',\n",
       "       'Escuela de pregrado'], dtype=object)"
      ]
     },
     "execution_count": 39,
     "metadata": {},
     "output_type": "execute_result"
    }
   ],
   "source": [
    "matriculados[\"FACULTAD\"].unique()"
   ]
  },
  {
   "cell_type": "code",
   "execution_count": 41,
   "metadata": {},
   "outputs": [
    {
     "data": {
      "text/plain": [
       "array([    24,     17,     18,     36,     35,     27,  16940,     25,\n",
       "       106661,  16941,      3,     29,      6,     14,      9,      5,\n",
       "           28,     11,  16939, 106654,     31,      1,     15,      8,\n",
       "        16895,      4,     30,     10,     16,     37,   3140,      2,\n",
       "           19,      7,   2497,     13,   3103,     32,     20,  19916,\n",
       "           33,  19910,     96,     12,     34,    106,     55,  19902,\n",
       "        19907,  19908,  52740,   2605,    103,  52746,  54036, 106338,\n",
       "          107,   4063,  52728,     48,  91522,     21,     92,     91,\n",
       "           88,  52741,  16947,  55147,    105,     89,  52747,   3101,\n",
       "        17906,  52979,  16891, 101794,  16951, 106674,     70,     23,\n",
       "        16938,  16889,  52980,  55023,  55150,    104,    100,    111,\n",
       "        53271,  52742,  19904, 106662,  16950,  16890,  19911,   3102,\n",
       "        52744,  55148,  51674, 106339,     39,    108,     64,  55129,\n",
       "         3992,  53270, 106671,  19899,  55124,  20487, 106337,  19915,\n",
       "        19918,  55024,  52733,  16887,  55136,  21563,  52729,    112,\n",
       "        19901,  52976,  16888,  55186,  21561,  54577,     79,  19917,\n",
       "       106672,  55182,     99,     47,     80,  55022, 106663, 102866,\n",
       "           57, 103552,   3909,  21556,     86,   2603,     87,  21562,\n",
       "        19909,  53272, 106675,     71, 106664,    110, 106341, 106340,\n",
       "       103551,  52738,     59,  51686,  19892,   2449,     40,  19894,\n",
       "       101796,  19895,  53273, 103196,  16884,  52731,  53268,     90,\n",
       "        19963,  52750,  52978,  16954,     69,  52743,  53265,  51676,\n",
       "        52749,     95,  54578, 106335,     38,  55138,  55208,  16955,\n",
       "       101795,     49,    109,  52972,     58,  54576,  52977,  19914,\n",
       "        52727,  21560, 101798,  19919,    101,   3100,  16946, 102832,\n",
       "        19930,  54030,  19905,  52748,  19897,  19913,  55123, 106653,\n",
       "        53267,  55149,   2604, 106334,  55137, 101982, 106336,     67,\n",
       "        52739,  19896,     46,  55187,  19912,  53263,  53274,     60,\n",
       "        55026,     53,  16952,     97,  19903, 107166,  55125,     63,\n",
       "        52734,  53264, 104924,     45,     50,  16949,  53266,     61,\n",
       "           66, 103554,     52,   2606,  53269, 102404, 106962,  19893,\n",
       "        16953,     41,     93,  54031,     65, 106670,  52732,     85,\n",
       "        16943,  16919,    127,    117,    125,    119,    126,  16924,\n",
       "          121,    113,    120,    114,  16920,  16925,  16922,    128,\n",
       "          118,  55189,    122,    115,    124,  16921,  16926,    123,\n",
       "        16923,    136,  52751,    116,    132,  19865,    140,   3194,\n",
       "       104511,  21554, 105137,  51669,    137, 106347,  19860, 102865,\n",
       "        51671, 101467, 102864,  55183,    139, 104790,  19888, 106665,\n",
       "        55144,    142,  19864,  19867,    129,  52753,  52974,  55143,\n",
       "       104512,   2503,  55142,   2501,  55130, 101984,    134, 101797,\n",
       "        91523,  16933,  52973,   2504,   2506,  90759,  19887,  52752,\n",
       "        19866, 106668,  19971, 106676,  55127,  16934,  55152,  19863,\n",
       "        21555,   2706, 106954, 106666, 103553,  51672, 104510,  16932,\n",
       "       102566,  21553, 102077,  55126,  55188,  51670,  52737,    135,\n",
       "        19889, 106673,  55146,  16927, 104508, 106669, 106346,  16936,\n",
       "       105299,   4126,   4122,   4124,   4121,   4120,  16912,   4123,\n",
       "        16914,  16915,   4125,  16911,  16916,  19926,  54035,  55135,\n",
       "       101582,  19969,  20493, 103555,  55030,    143,  55190,  55184,\n",
       "        19921, 103822, 104319,  55025, 104507,  55140,  55134, 106960,\n",
       "       103556,  16903,  55133,  55151,  51673, 103154, 106667, 101983,\n",
       "        19924,   4129, 106343, 106342,  55139, 107445,  19923,  55145,\n",
       "        19920, 101581,  90821,  16904,  16902,  16905,  20488,   3104,\n",
       "          144, 105570,  55131, 101987, 106348,  91335,  90700,  20491,\n",
       "        90822,  19891, 106963,  51682, 107164, 106956, 107447, 107446,\n",
       "       106056, 107444, 107165, 106344,  52755, 108083, 108081, 106958,\n",
       "       108085, 108086, 108082, 108084, 108145, 108149, 108146,   4128,\n",
       "       106961,  19925, 108135,  19970, 106345,    131, 104509, 108412,\n",
       "        20486, 110726, 106955, 110177, 110723, 110724, 110738, 110727,\n",
       "       110725, 110722])"
      ]
     },
     "execution_count": 41,
     "metadata": {},
     "output_type": "execute_result"
    }
   ],
   "source": [
    "matriculados[\"SNIES_PROGRA\"].unique()"
   ]
  },
  {
   "cell_type": "code",
   "execution_count": 46,
   "metadata": {},
   "outputs": [
    {
     "data": {
      "text/plain": [
       "['Acción Sin Daño y Construcción de Paz',\n",
       " 'Acción sin daño y construcción de paz',\n",
       " 'Actuaria y Finanzas',\n",
       " 'Actuaria y finanzas',\n",
       " 'Actuaría y Finanzas',\n",
       " 'Actuaría y finanzas',\n",
       " 'Administración',\n",
       " 'Administración Salud Publica',\n",
       " 'Administración de Empresas',\n",
       " 'Administración de Empresas (Diurno)',\n",
       " 'Administración de Empresas (Nocturno)',\n",
       " 'Administración de Sistemas Informáticos',\n",
       " 'Administración de empresas',\n",
       " 'Administración de empresas (diurno)',\n",
       " 'Administración de empresas (nocturno)',\n",
       " 'Administración de la Justicia',\n",
       " 'Administración de sistemas informáticos',\n",
       " 'Administración salud publica',\n",
       " 'Agroecología',\n",
       " 'Alimentación y Nutrición Promoción de la Salud',\n",
       " 'Alimentación y nutrición promoción de la salud',\n",
       " 'Alta Gerencia',\n",
       " 'Alta gerencia',\n",
       " 'Analítica',\n",
       " 'Anatomopatología Veterinaria',\n",
       " 'Anatomopatología veterinaria',\n",
       " 'Anestesiología y Reanimación',\n",
       " 'Anestesiología y reanimación',\n",
       " 'Animación',\n",
       " 'Antropología',\n",
       " 'Análisis Espacial',\n",
       " 'Análisis de Políticas Públicas',\n",
       " 'Análisis de políticas públicas',\n",
       " 'Análisis espacial',\n",
       " 'Aprovechamiento de Recursos Hidráulicos',\n",
       " 'Aprovechamiento de recursos hidráulicos',\n",
       " 'Archivística',\n",
       " 'Arquitectura',\n",
       " 'Arquitectura de la Vivienda',\n",
       " 'Arquitectura de la vivienda',\n",
       " 'Arte y Arquitectura',\n",
       " 'Arte y arquitectura',\n",
       " 'Artes Plásticas',\n",
       " 'Artes Plásticas y Visuales',\n",
       " 'Artes plásticas',\n",
       " 'Artes plásticas y visuales',\n",
       " 'Auditoria de Sistemas',\n",
       " 'Auditoria de sistemas',\n",
       " 'Biociencias y Derecho',\n",
       " 'Biociencias y derecho',\n",
       " 'Bioinformática',\n",
       " 'Biología',\n",
       " 'Bioquímica',\n",
       " 'Biotecnología',\n",
       " 'Bosques y Conservación Ambiental',\n",
       " 'Bosques y conservación ambiental',\n",
       " 'Ciencia Política',\n",
       " 'Ciencia política',\n",
       " 'Ciencia y Tecnología Cosmética',\n",
       " 'Ciencia y Tecnología de Alimentos',\n",
       " 'Ciencia y tecnología cosmética',\n",
       " 'Ciencia y tecnología de alimentos',\n",
       " 'Ciencias',\n",
       " 'Ciencias - Astronomía',\n",
       " 'Ciencias - Biología',\n",
       " 'Ciencias - Bioquímica',\n",
       " 'Ciencias - Biotecnología',\n",
       " 'Ciencias - Entomología',\n",
       " 'Ciencias - Estadística',\n",
       " 'Ciencias - Farmacología',\n",
       " 'Ciencias - Física',\n",
       " 'Ciencias - Geofísica',\n",
       " 'Ciencias - Geología',\n",
       " 'Ciencias - Geomorfología y Suelos',\n",
       " 'Ciencias - Geomorfología y suelos',\n",
       " 'Ciencias - Matemática',\n",
       " 'Ciencias - Matemática Aplicada',\n",
       " 'Ciencias - Matemática aplicada',\n",
       " 'Ciencias - Matemáticas',\n",
       " 'Ciencias - Meteorología',\n",
       " 'Ciencias - Microbiología',\n",
       " 'Ciencias - Química',\n",
       " 'Ciencias - Salud Animal o Producción Animal',\n",
       " 'Ciencias - Salud animal o producción animal',\n",
       " 'Ciencias Agrarias',\n",
       " 'Ciencias Biológicas',\n",
       " 'Ciencias Biomédicas',\n",
       " 'Ciencias Económicas',\n",
       " 'Ciencias Farmacéuticas',\n",
       " 'Ciencias Humanas y Sociales',\n",
       " 'Ciencias agrarias',\n",
       " 'Ciencias biológicas',\n",
       " 'Ciencias biomédicas',\n",
       " 'Ciencias de la Computación',\n",
       " 'Ciencias de la computación',\n",
       " 'Ciencias del Mar',\n",
       " 'Ciencias del mar',\n",
       " 'Ciencias económicas',\n",
       " 'Ciencias farmacéuticas',\n",
       " 'Ciencias humanas y sociales',\n",
       " 'Cine y Televisión',\n",
       " 'Cine y televisión',\n",
       " 'Cirugía General',\n",
       " 'Cirugía Oral y Maxilofacial',\n",
       " 'Cirugía Pediátrica',\n",
       " 'Cirugía Plástica',\n",
       " 'Cirugía general',\n",
       " 'Cirugía oral y maxilofacial',\n",
       " 'Cirugía pediátrica',\n",
       " 'Cirugía plástica',\n",
       " 'Comunicación y Medios',\n",
       " 'Comunicación y medios',\n",
       " 'Conservación del Patrimonio Cultural Inmueble',\n",
       " 'Conservación del patrimonio cultural inmueble',\n",
       " 'Construcción',\n",
       " 'Contabilidad y Finanzas',\n",
       " 'Contabilidad y finanzas',\n",
       " 'Contaduría Publica',\n",
       " 'Contaduría publica',\n",
       " 'Cuidado Intensivo Pediátrico',\n",
       " 'Cuidado intensivo pediátrico',\n",
       " 'Derecho',\n",
       " 'Derecho Administrativo',\n",
       " 'Derecho Constitucional',\n",
       " 'Derecho Privado Económico',\n",
       " 'Derecho administrativo',\n",
       " 'Derecho constitucional',\n",
       " 'Derecho de Familia',\n",
       " 'Derecho de familia',\n",
       " 'Derecho del Trabajo',\n",
       " 'Derecho del trabajo',\n",
       " 'Derecho privado económico',\n",
       " 'Derechos Humanos y Derecho Internacional Humanitario',\n",
       " 'Derechos humanos y derecho internacional humanitario',\n",
       " 'Dermatología',\n",
       " 'Dirección Sinfónica',\n",
       " 'Dirección de Producción y Operaciones',\n",
       " 'Dirección de producción y operaciones',\n",
       " 'Dirección sinfónica',\n",
       " 'Discapacidad e Inclusión Social',\n",
       " 'Discapacidad e inclusión social',\n",
       " 'Diseño',\n",
       " 'Diseño Grafico',\n",
       " 'Diseño Industrial',\n",
       " 'Diseño Urbano',\n",
       " 'Diseño grafico',\n",
       " 'Diseño industrial',\n",
       " 'Diseño urbano',\n",
       " 'Diseño y Desarrollo del Producto',\n",
       " 'Diseño y desarrollo del producto',\n",
       " 'Eco-eficiencia industrial',\n",
       " 'Ecología',\n",
       " 'Economía',\n",
       " 'Economía de la Cultura',\n",
       " 'Economía de la cultura',\n",
       " 'Educación',\n",
       " 'Educación Artística',\n",
       " 'Educación artística',\n",
       " 'Endocrinología',\n",
       " 'Endodoncia',\n",
       " 'Enfermería',\n",
       " 'Enfermería Cardiorrespiratoria',\n",
       " 'Enfermería Materna Perinatal con Apoyo Familiar',\n",
       " 'Enfermería cardiorrespiratoria',\n",
       " 'Enfermería materna perinatal con apoyo familiar',\n",
       " 'Enseñanza de las Ciencias Exactas y Naturales',\n",
       " 'Enseñanza de las ciencias exactas y naturales',\n",
       " 'Epidemiología Clínica',\n",
       " 'Epidemiología clínica',\n",
       " 'Escrituras Creativas',\n",
       " 'Escrituras creativas',\n",
       " 'Español y Filología Clásica',\n",
       " 'Español y filología clásica',\n",
       " 'Estadística',\n",
       " 'Estomatología Pediátrica y Ortopedia Maxilar',\n",
       " 'Estomatología pediátrica y ortopedia maxilar',\n",
       " 'Estructuras',\n",
       " 'Estudios Amazónicos',\n",
       " 'Estudios Ambientales',\n",
       " 'Estudios Culturales',\n",
       " 'Estudios Feministas y de Género',\n",
       " 'Estudios Literarios',\n",
       " 'Estudios Políticos',\n",
       " 'Estudios Políticos Latinoamericanos',\n",
       " 'Estudios Políticos y Relaciones Internacionales',\n",
       " 'Estudios Sociales de la Ciencia',\n",
       " 'Estudios Urbano-Regionales',\n",
       " 'Estudios Urbanos y Territoriales',\n",
       " 'Estudios amazónicos',\n",
       " 'Estudios ambientales',\n",
       " 'Estudios culturales',\n",
       " 'Estudios de Género',\n",
       " 'Estudios de género',\n",
       " 'Estudios de género - área mujer y desarrollo',\n",
       " 'Estudios del Caribe',\n",
       " 'Estudios del caribe',\n",
       " 'Estudios feministas de género',\n",
       " 'Estudios feministas y de género',\n",
       " 'Estudios literarios',\n",
       " 'Estudios políticos',\n",
       " 'Estudios políticos latinoamericanos',\n",
       " 'Estudios políticos y relaciones internacionales',\n",
       " 'Estudios sociales de la ciencia',\n",
       " 'Estudios urban',\n",
       " 'Estudios urbano-regionales',\n",
       " 'Estudios urbanos y territoriales',\n",
       " 'Estética',\n",
       " 'Farmacia',\n",
       " 'Filología e Idiomas',\n",
       " 'Filología e idiomas',\n",
       " 'Filosofía',\n",
       " 'Finanzas Corporativas',\n",
       " 'Finanzas corporativas',\n",
       " 'Fisiología',\n",
       " 'Fisioterapia',\n",
       " 'Fisioterapia del Deporte y la Actividad Física',\n",
       " 'Fisioterapia del deporte y actividad física',\n",
       " 'Fisioterapia del deporte y la actividad física',\n",
       " 'Fonoaudiología',\n",
       " 'Fotografía',\n",
       " 'Física',\n",
       " 'Física Médica',\n",
       " 'Física médica',\n",
       " 'Gastroenterología',\n",
       " 'Genética Humana',\n",
       " 'Genética humana',\n",
       " 'Geociencias',\n",
       " 'Geografía',\n",
       " 'Geología',\n",
       " 'Geomática',\n",
       " 'Geotecnia',\n",
       " 'Gerencia Estratégica de Proyectos',\n",
       " 'Gerencia estratégica de proyectos',\n",
       " 'Geriatría',\n",
       " 'Gestión Ambiental',\n",
       " 'Gestión Cultural',\n",
       " 'Gestión Cultural con Énfasis Planeación y Políticas Culturales',\n",
       " 'Gestión Cultural y Comunicativa',\n",
       " 'Gestión Empresarial',\n",
       " 'Gestión Inmobiliaria',\n",
       " 'Gestión ambiental',\n",
       " 'Gestión cultural',\n",
       " 'Gestión cultural con énfasis planeación y políticas culturales',\n",
       " 'Gestión cultural y comunicativa',\n",
       " 'Gestión de redes y datos',\n",
       " 'Gestión del Negocio Minero',\n",
       " 'Gestión del negocio minero',\n",
       " 'Gestión empresarial',\n",
       " 'Gestión inmobiliaria',\n",
       " 'Gestión y Desarrollo Rural',\n",
       " 'Gestión y desarrollo rural',\n",
       " 'Gobierno Urbano',\n",
       " 'Gobierno electrónico',\n",
       " 'Gobierno urbano',\n",
       " 'Hematología',\n",
       " 'Historia',\n",
       " 'Historia y Teoría del Arte, la Arquitectura y la Ciudad',\n",
       " 'Historia y teoría del arte, la arquitectura y la ciudad',\n",
       " 'Hábitat',\n",
       " 'Iluminación Pública y Privada',\n",
       " 'Iluminación pública y privada',\n",
       " 'Infecciones y Salud el Trópico',\n",
       " 'Infecciones y salud el trópico',\n",
       " 'Infectología',\n",
       " 'Ingeniería',\n",
       " 'Ingeniería - Analítica',\n",
       " 'Ingeniería - Automatización Industrial',\n",
       " 'Ingeniería - Automatización industrial',\n",
       " 'Ingeniería - Automática',\n",
       " 'Ingeniería - Biosistemas',\n",
       " 'Ingeniería - Ciencia y Tecnología de Materiales',\n",
       " 'Ingeniería - Ciencia y Tecnología de los Materiales',\n",
       " 'Ingeniería - Ciencia y tecnología de los materiales',\n",
       " 'Ingeniería - Ciencia y tecnología de materiales',\n",
       " 'Ingeniería - Estructuras',\n",
       " 'Ingeniería - Geotecnia',\n",
       " 'Ingeniería - Industria y Organizaciones',\n",
       " 'Ingeniería - Industria y organizaciones',\n",
       " 'Ingeniería - Infraestructura y Sistemas de Transporte',\n",
       " 'Ingeniería - Infraestructura y sistemas de transporte',\n",
       " 'Ingeniería - Ingeniería Ambiental',\n",
       " 'Ingeniería - Ingeniería Civil',\n",
       " 'Ingeniería - Ingeniería Electrónica',\n",
       " 'Ingeniería - Ingeniería Eléctrica',\n",
       " 'Ingeniería - Ingeniería Industrial',\n",
       " 'Ingeniería - Ingeniería Mecánica',\n",
       " 'Ingeniería - Ingeniería Mecánica y Mecatrónica',\n",
       " 'Ingeniería - Ingeniería Química',\n",
       " 'Ingeniería - Ingeniería agrícola',\n",
       " 'Ingeniería - Ingeniería ambiental',\n",
       " 'Ingeniería - Ingeniería civil',\n",
       " 'Ingeniería - Ingeniería de Sistemas',\n",
       " 'Ingeniería - Ingeniería de Sistemas y Computación',\n",
       " 'Ingeniería - Ingeniería de sistemas',\n",
       " 'Ingeniería - Ingeniería de sistemas y computación',\n",
       " 'Ingeniería - Ingeniería electrónica',\n",
       " 'Ingeniería - Ingeniería eléctrica',\n",
       " 'Ingeniería - Ingeniería industrial',\n",
       " 'Ingeniería - Ingeniería mecánica',\n",
       " 'Ingeniería - Ingeniería mecánica y mecatrónica',\n",
       " 'Ingeniería - Ingeniería química',\n",
       " 'Ingeniería - Materiales y Procesos',\n",
       " 'Ingeniería - Materiales y procesos',\n",
       " 'Ingeniería - Recursos Hidráulicos',\n",
       " 'Ingeniería - Recursos Minerales',\n",
       " 'Ingeniería - Recursos hidráulicos',\n",
       " 'Ingeniería - Recursos minerales',\n",
       " 'Ingeniería - Sistemas',\n",
       " 'Ingeniería - Sistemas Energéticos',\n",
       " 'Ingeniería - Sistemas energéticos',\n",
       " 'Ingeniería - Telecomunicaciones',\n",
       " 'Ingeniería - Transporte',\n",
       " 'Ingeniería - Transportes',\n",
       " 'Ingeniería - ingeniería eléctrica',\n",
       " 'Ingeniería Administrativa',\n",
       " 'Ingeniería Agroindustrial',\n",
       " 'Ingeniería Agronómica',\n",
       " 'Ingeniería Agrícola',\n",
       " 'Ingeniería Ambiental',\n",
       " 'Ingeniería Ambiental - Área Sanitaria',\n",
       " 'Ingeniería Biológica',\n",
       " 'Ingeniería Biomédica',\n",
       " 'Ingeniería Civil',\n",
       " 'Ingeniería Electrónica',\n",
       " 'Ingeniería Eléctrica',\n",
       " 'Ingeniería Financiera',\n",
       " 'Ingeniería Forestal',\n",
       " 'Ingeniería Física',\n",
       " 'Ingeniería Geológica',\n",
       " 'Ingeniería Geotecnia',\n",
       " 'Ingeniería Hidráulica y Ambiental',\n",
       " 'Ingeniería Industrial',\n",
       " 'Ingeniería Mecatrónica',\n",
       " 'Ingeniería Mecánica',\n",
       " 'Ingeniería Química',\n",
       " 'Ingeniería Sistemas y Computación',\n",
       " 'Ingeniería administrativa',\n",
       " 'Ingeniería agroindustrial',\n",
       " 'Ingeniería agronómica',\n",
       " 'Ingeniería agrícola',\n",
       " 'Ingeniería ambiental',\n",
       " 'Ingeniería ambiental - área sanitaria',\n",
       " 'Ingeniería ambiental, área sanitaria',\n",
       " 'Ingeniería biológica',\n",
       " 'Ingeniería biomédica',\n",
       " 'Ingeniería civil',\n",
       " 'Ingeniería contra Incendios y Explosiones',\n",
       " 'Ingeniería de Control',\n",
       " 'Ingeniería de Materiales y Procesos',\n",
       " 'Ingeniería de Minas y Metalurgia',\n",
       " 'Ingeniería de Petróleos',\n",
       " 'Ingeniería de Sistemas e Informática',\n",
       " 'Ingeniería de Sistemas y Computación',\n",
       " 'Ingeniería de Software',\n",
       " 'Ingeniería de control',\n",
       " 'Ingeniería de materiales y procesos',\n",
       " 'Ingeniería de minas y metalurgia',\n",
       " 'Ingeniería de petróleos',\n",
       " 'Ingeniería de sistemas e informática',\n",
       " 'Ingeniería de sistemas y computación',\n",
       " 'Ingeniería de software',\n",
       " 'Ingeniería electrónica',\n",
       " 'Ingeniería eléctrica',\n",
       " 'Ingeniería financiera',\n",
       " 'Ingeniería forestal',\n",
       " 'Ingeniería física',\n",
       " 'Ingeniería geológica',\n",
       " 'Ingeniería geotecnia',\n",
       " 'Ingeniería hidráulica y ambiental',\n",
       " 'Ingeniería industrial',\n",
       " 'Ingeniería mecatrónica',\n",
       " 'Ingeniería mecánica',\n",
       " 'Ingeniería química',\n",
       " 'Ingeniería sistemas y computación',\n",
       " 'Ingeniería\\xa0- Ingeniería de Petróleos',\n",
       " 'Ingeniería\\xa0- Ingeniería de petróleos',\n",
       " 'Inmunología',\n",
       " 'Instituciones Jurídicas de la Seguridad Social',\n",
       " 'Instituciones Jurídico-Penales',\n",
       " 'Instituciones Jurídico-Procesales',\n",
       " 'Instituciones jurídic',\n",
       " 'Instituciones jurídicas de la seguridad social',\n",
       " 'Instituciones jurídico-penales',\n",
       " 'Instituciones jurídico-procesales',\n",
       " 'Inteligencia Artificial',\n",
       " 'Inteligencia artificial',\n",
       " 'Interdisciplinaria Teatro y Artes Vivas',\n",
       " 'Interdisciplinaria teatro y artes vivas',\n",
       " 'Interpretación y Pedagogía Instrumental',\n",
       " 'Interpretación y pedagogía instrumental',\n",
       " 'Interventoría de Proyectos y Obras',\n",
       " 'Interventoría de proyectos y obras',\n",
       " 'Justicia, Víctimas y Construcción de Paz',\n",
       " 'Justicia, víctimas y construcción de paz',\n",
       " 'Lingüística',\n",
       " 'Logística y Cadenas de Abastecimiento',\n",
       " 'Logística y cadenas de abastecimiento',\n",
       " 'Mantenimiento',\n",
       " 'Matemáticas',\n",
       " 'Medicina',\n",
       " 'Medicina Aeroespacial',\n",
       " 'Medicina Alternativa',\n",
       " 'Medicina Forense',\n",
       " 'Medicina Física y Rehabilitación',\n",
       " 'Medicina Interna',\n",
       " 'Medicina Veterinaria',\n",
       " 'Medicina aeroespacial',\n",
       " 'Medicina alternativa',\n",
       " 'Medicina del Deporte',\n",
       " 'Medicina del deporte',\n",
       " 'Medicina forense',\n",
       " 'Medicina física y rehabilitación',\n",
       " 'Medicina interna',\n",
       " 'Medicina veterinaria',\n",
       " 'Medio Ambiente y Desarrollo',\n",
       " 'Medio ambiente y desarrollo',\n",
       " 'Mercados de Energía',\n",
       " 'Mercados de energía',\n",
       " 'Mercados y políticas de suelo américa latina',\n",
       " 'Morfología Humana',\n",
       " 'Morfología humana',\n",
       " 'Museología y Gestión del Patrimonio',\n",
       " 'Museología y gestión del patrimonio',\n",
       " 'Musicología',\n",
       " 'Musicoterapia',\n",
       " 'Métodos estadísticos básicos',\n",
       " 'Música',\n",
       " 'Música Instrumental',\n",
       " 'Música instrumental',\n",
       " 'Nanotecnología Aplicada a la Industria del Petróleo y Gas',\n",
       " 'Nanotecnología aplicada a la industria del petróleo y gas',\n",
       " 'Neumología Clínica',\n",
       " 'Neumología clínica',\n",
       " 'Neurociencias',\n",
       " 'Neurocirugía',\n",
       " 'Neurología Clínica',\n",
       " 'Neurología clínica',\n",
       " 'Neuropediatría',\n",
       " 'Nutrición Animal',\n",
       " 'Nutrición animal',\n",
       " 'Nutrición y Dietética',\n",
       " 'Nutrición y dietética',\n",
       " 'Obstetricia y Ginecología',\n",
       " 'Obstetricia y ginecología',\n",
       " 'Odontología',\n",
       " 'Oftalmología',\n",
       " 'Onco',\n",
       " 'Onco - hematología pediátrica',\n",
       " 'Oncohematología Pediátrica',\n",
       " 'Oncohematología pediátrica',\n",
       " 'Oncología',\n",
       " 'Operatoria Dental Estética',\n",
       " 'Operatoria dental estética',\n",
       " 'Ordenamiento Urbano-Regional',\n",
       " 'Ordenamiento urban',\n",
       " 'Ordenamiento urbano-regional',\n",
       " 'Ortodoncia y Ortopedia Maxilar',\n",
       " 'Ortodoncia y ortopedia maxilar',\n",
       " 'Ortopedia y Traumatología',\n",
       " 'Ortopedia y traumatología',\n",
       " 'Otorrinolaringología',\n",
       " 'Patología Anatómica y Clínica',\n",
       " 'Patología anatómica y clínica',\n",
       " 'Patología de la Edificación y Técnicas de Intervención y Prevención',\n",
       " 'Patología de la edificación y técnicas de intervención y prevención',\n",
       " 'Pedagogía del Diseño',\n",
       " 'Pedagogía del diseño',\n",
       " 'Pedagogía del piano',\n",
       " 'Pediatría',\n",
       " 'Perinatología y Neonatología',\n",
       " 'Perinatología y neonatología',\n",
       " 'Periodoncia',\n",
       " 'Planeación Urbano-Regional',\n",
       " 'Planeación urban',\n",
       " 'Planeación urbano-regional',\n",
       " 'Políticas Publicas',\n",
       " 'Políticas publicas',\n",
       " 'Psicoanálisis, Subjetividad y Cultura (De Freud A Lacan)',\n",
       " 'Psicoanálisis, subjetividad y cultura',\n",
       " 'Psicoanálisis, subjetividad y cultura (de Freud a Lacan)',\n",
       " 'Psicología',\n",
       " 'Psiquiatría',\n",
       " 'Química',\n",
       " 'Radiología Pediátrica',\n",
       " 'Radiología e Imágenes Diagnósticas',\n",
       " 'Radiología e imágenes diagnósticas',\n",
       " 'Radiología pediátrica',\n",
       " 'Recursos Minerales',\n",
       " 'Recursos minerales',\n",
       " 'Rehabilitación Oral',\n",
       " 'Rehabilitación oral',\n",
       " 'Reumatología',\n",
       " 'Salud Animal o Producción Animal',\n",
       " 'Salud Familiar Integral',\n",
       " 'Salud Pública',\n",
       " 'Salud animal o producción animal',\n",
       " 'Salud familiar integral',\n",
       " 'Salud pública',\n",
       " 'Salud y Seguridad el Trabajo',\n",
       " 'Salud y seguridad el trabajo',\n",
       " 'Seguridad Alimentaria y Nutricional',\n",
       " 'Seguridad alimentaria y nutricional',\n",
       " 'Sistemas',\n",
       " 'Sistemas de Información Geográfica',\n",
       " 'Sistemas de información geográfica',\n",
       " 'Sociología',\n",
       " 'Terapia Ocupacional',\n",
       " 'Terapia ocupacional',\n",
       " 'Toxicología',\n",
       " 'Trabajo Social',\n",
       " 'Trabajo social',\n",
       " 'Tránsito, Diseño y Seguridad Vial',\n",
       " 'Tránsito, diseño y seguridad vial',\n",
       " 'Turismo, Ambiente y Territorio',\n",
       " 'Turismo, ambiente y territorio',\n",
       " 'Urbanismo',\n",
       " 'Urología',\n",
       " 'Vías y Transporte',\n",
       " 'Vías y transporte',\n",
       " 'Vías y transportes',\n",
       " 'Zootecnia']"
      ]
     },
     "execution_count": 46,
     "metadata": {},
     "output_type": "execute_result"
    }
   ],
   "source": [
    "sorted(matriculados[\"PROGRAMA\"].unique())\n"
   ]
  },
  {
   "cell_type": "markdown",
   "metadata": {},
   "source": [
    "Note que hay varios nombres repetidos, sin embargo corresponden a carreras en diferentes Sedes"
   ]
  },
  {
   "cell_type": "code",
   "execution_count": null,
   "metadata": {},
   "outputs": [],
   "source": [
    "matriculados[\"ADM_PEAMA_ANDINA\"].unique() #ESTA VA SOLA"
   ]
  },
  {
   "cell_type": "code",
   "execution_count": 47,
   "metadata": {},
   "outputs": [
    {
     "data": {
      "text/plain": [
       "array(['Ingeniería, arquitectura, urbanismo y afines',\n",
       "       'Ciencias sociales y humanas',\n",
       "       'Economía, administración, contaduría y afines',\n",
       "       'Matemáticas y ciencias naturales',\n",
       "       'Agronomía, veterinaria y afines', 'Bellas artes',\n",
       "       'Ciencias de la salud', 'Ciencias de la educación'], dtype=object)"
      ]
     },
     "execution_count": 47,
     "metadata": {},
     "output_type": "execute_result"
    }
   ],
   "source": [
    "matriculados[\"AREAC_SNIES\"].unique()"
   ]
  },
  {
   "cell_type": "markdown",
   "metadata": {},
   "source": [
    "[AREAS SNIES](https://snies.mineducacion.gov.co/portal/DOCUMENTOS/Glosario/)"
   ]
  },
  {
   "cell_type": "code",
   "execution_count": 48,
   "metadata": {},
   "outputs": [
    {
     "data": {
      "text/plain": [
       "array([8, 4, 3, 5, 7, 6, 2, 9, 1])"
      ]
     },
     "execution_count": 48,
     "metadata": {},
     "output_type": "execute_result"
    }
   ],
   "source": [
    "matriculados[\"CA_CINE\"].unique()"
   ]
  },
  {
   "cell_type": "code",
   "execution_count": 49,
   "metadata": {},
   "outputs": [
    {
     "data": {
      "text/plain": [
       "array([811, 421, 311, 531, 541, 713, 722, 732, 613, 714, 711, 211, 313,\n",
       "       912, 212, 715, 911, 232, 511, 923, 915, 411, -89, 731, 314, 916,\n",
       "       312, 841, 413, 913, 213, 222, 542, 223, 929, 533, 532, 588, 231,\n",
       "       288, 215, 210, 721, 388, 111, 688, 539, 219, 521, 619, 611, 712,\n",
       "       724, 821, 612, 412, 730])"
      ]
     },
     "execution_count": 49,
     "metadata": {},
     "output_type": "execute_result"
    }
   ],
   "source": [
    "matriculados[\"CD_CINE\"].unique()"
   ]
  },
  {
   "cell_type": "code",
   "execution_count": 50,
   "metadata": {},
   "outputs": [
    {
     "data": {
      "text/plain": [
       "array(['Agricultura, silvicultura, pesca y veterinaria',\n",
       "       'Administración de empresas y derecho',\n",
       "       'Ciencias sociales, periodismo e información',\n",
       "       'Ciencias naturales, matemáticas y estadística',\n",
       "       'Ingeniería, industria y construcción',\n",
       "       'Tecnologías de la información y la comunicación (TIC)',\n",
       "       'Artes y humanidades', 'Salud y bienestar', 'Educación'],\n",
       "      dtype=object)"
      ]
     },
     "execution_count": 50,
     "metadata": {},
     "output_type": "execute_result"
    }
   ],
   "source": [
    "matriculados[\"AREA_CINE\"].unique()"
   ]
  },
  {
   "cell_type": "markdown",
   "metadata": {},
   "source": [
    "+ ***Categorias Unicas:*** Entre estos se encuentran `Year`,`SEMESTRE`,`EDAD`,`SEXO`,`ESTRATO`,`TIPO_COL`,`PBM`,`MAT_PVEZ`. Pues ninguno se encuentra relacionado con otro atributo"
   ]
  },
  {
   "cell_type": "markdown",
   "metadata": {},
   "source": [
    "# Limpieza de Datos"
   ]
  },
  {
   "cell_type": "markdown",
   "metadata": {},
   "source": [
    "## Reduccion de dimensionalidad\n",
    "Para hacer esto tendremos en cuenta la categorias y los futuros analisis.\n",
    "Por ejemplo en la categoria departamento de nacimiento unicamente se dejara el atributo de `DEP_NAC` pues ofrece la misma informacion que el codigo."
   ]
  },
  {
   "cell_type": "code",
   "execution_count": 10,
   "metadata": {},
   "outputs": [],
   "source": [
    "matriculados.drop(columns=['COD_DEP_NAC'], inplace=True)"
   ]
  },
  {
   "cell_type": "markdown",
   "metadata": {},
   "source": [
    " TODO: mirar si se puede unir todos los atributos relativos a admisiones especiales\n",
    "\n",
    "\n",
    "\n",
    "#_______  \n",
    "primeramente se va a reducir la dimension de la base de datos de Matriculados, pues a simple vista \n",
    "se nota que existen varios atributos que corresponden a la misma información  \n"
   ]
  },
  {
   "cell_type": "markdown",
   "metadata": {},
   "source": []
  }
 ],
 "metadata": {
  "kernelspec": {
   "display_name": "Python 3",
   "language": "python",
   "name": "python3"
  },
  "language_info": {
   "codemirror_mode": {
    "name": "ipython",
    "version": 3
   },
   "file_extension": ".py",
   "mimetype": "text/x-python",
   "name": "python",
   "nbconvert_exporter": "python",
   "pygments_lexer": "ipython3",
   "version": "3.10.12"
  }
 },
 "nbformat": 4,
 "nbformat_minor": 2
}
